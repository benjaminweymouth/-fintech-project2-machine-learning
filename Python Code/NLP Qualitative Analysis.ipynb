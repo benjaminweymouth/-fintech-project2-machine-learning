{
 "cells": [
  {
   "cell_type": "code",
   "execution_count": 18,
   "id": "04ce9c14",
   "metadata": {},
   "outputs": [
    {
     "name": "stderr",
     "output_type": "stream",
     "text": [
      "[nltk_data] Downloading package vader_lexicon to\n",
      "[nltk_data]     C:\\Users\\Is\\AppData\\Roaming\\nltk_data...\n",
      "[nltk_data]   Package vader_lexicon is already up-to-date!\n",
      "[nltk_data] Downloading package vader_lexicon to\n",
      "[nltk_data]     C:\\Users\\Is\\AppData\\Roaming\\nltk_data...\n",
      "[nltk_data]   Package vader_lexicon is already up-to-date!\n"
     ]
    }
   ],
   "source": [
    "# Initial imports\n",
    "import os\n",
    "import pandas as pd\n",
    "from dotenv import load_dotenv\n",
    "import nltk as nltk\n",
    "import requests\n",
    "import os\n",
    "import json\n",
    "nltk.download('vader_lexicon')\n",
    "from nltk.sentiment.vader import SentimentIntensityAnalyzer\n",
    "analyzer = SentimentIntensityAnalyzer()\n",
    "from path import Path\n",
    "from newsapi import NewsApiClient\n",
    "import spacy\n",
    "from spacy import displacy\n",
    "from nltk.tokenize import word_tokenize, sent_tokenize\n",
    "from nltk.stem import WordNetLemmatizer, PorterStemmer\n",
    "from nltk.corpus import stopwords\n",
    "import os\n",
    "import pandas as pd\n",
    "from dotenv import load_dotenv\n",
    "import nltk as nltk\n",
    "nltk.download('vader_lexicon')\n",
    "from nltk.sentiment.vader import SentimentIntensityAnalyzer\n",
    "analyzer = SentimentIntensityAnalyzer()\n",
    "from newsapi import NewsApiClient\n",
    "\n",
    "from nltk.tokenize import word_tokenize, sent_tokenize\n",
    "from nltk.corpus import stopwords\n",
    "from nltk.stem import WordNetLemmatizer, PorterStemmer\n",
    "from string import punctuation\n",
    "import re\n",
    "import spacy\n",
    "from spacy import displacy\n",
    "from collections import Counter\n",
    "from nltk import ngrams\n",
    "%matplotlib inline\n",
    "\n",
    "\n",
    "%matplotlib inline"
   ]
  },
  {
   "cell_type": "markdown",
   "id": "91ee2063",
   "metadata": {},
   "source": [
    "## 1. Qualitative Analysis - taking NewsAPI articles on the Canadian Housing Market \n",
    "\n",
    "Use the [newsapi](https://newsapi.org/) to pull the latest news articles for the Canadian Housing Market"
   ]
  },
  {
   "cell_type": "code",
   "execution_count": 2,
   "id": "6d1abbc1",
   "metadata": {},
   "outputs": [],
   "source": [
    "# Read your api key environment variable\n",
    "# Load environment variables and retrieve the News API key\n",
    "load_dotenv()\n",
    "api_key = os.getenv(\"NEWS_API_KEY\")"
   ]
  },
  {
   "cell_type": "code",
   "execution_count": 3,
   "id": "7a6e0ec2",
   "metadata": {},
   "outputs": [],
   "source": [
    "# Create the newsapi client\n",
    "newsapi = NewsApiClient(api_key=api_key)\n",
    "natural_processing = spacy.load('en_core_web_sm')"
   ]
  },
  {
   "cell_type": "code",
   "execution_count": 56,
   "id": "1c4ced6b",
   "metadata": {},
   "outputs": [
    {
     "name": "stdout",
     "output_type": "stream",
     "text": [
      "Total articles about Housing Market: 247\n"
     ]
    }
   ],
   "source": [
    "# Fetch Canadian Housing Market\n",
    "housingmarket_news_en = newsapi.get_everything(q=\"Canadian Housing Market\",\n",
    "                                               language=\"en\",\n",
    "                                               sort_by='relevancy'\n",
    ")\n",
    "\n",
    "# Show the total number of news\n",
    "print(f\"Total articles about Housing Market: {housingmarket_news_en['totalResults']}\")"
   ]
  },
  {
   "cell_type": "code",
   "execution_count": 57,
   "id": "ab1ba345-af5d-4946-b35d-f1ca5bb884b8",
   "metadata": {},
   "outputs": [
    {
     "data": {
      "text/html": [
       "<div>\n",
       "<style scoped>\n",
       "    .dataframe tbody tr th:only-of-type {\n",
       "        vertical-align: middle;\n",
       "    }\n",
       "\n",
       "    .dataframe tbody tr th {\n",
       "        vertical-align: top;\n",
       "    }\n",
       "\n",
       "    .dataframe thead th {\n",
       "        text-align: right;\n",
       "    }\n",
       "</style>\n",
       "<table border=\"1\" class=\"dataframe\">\n",
       "  <thead>\n",
       "    <tr style=\"text-align: right;\">\n",
       "      <th></th>\n",
       "      <th>date</th>\n",
       "      <th>text</th>\n",
       "      <th>compound</th>\n",
       "      <th>positive</th>\n",
       "      <th>negative</th>\n",
       "      <th>neutral</th>\n",
       "    </tr>\n",
       "  </thead>\n",
       "  <tbody>\n",
       "    <tr>\n",
       "      <th>0</th>\n",
       "      <td>2021-11-16</td>\n",
       "      <td>* Canadian dollar weakens 0.2% against the gre...</td>\n",
       "      <td>-0.3182</td>\n",
       "      <td>0.000</td>\n",
       "      <td>0.071</td>\n",
       "      <td>0.929</td>\n",
       "    </tr>\n",
       "    <tr>\n",
       "      <th>1</th>\n",
       "      <td>2021-12-07</td>\n",
       "      <td>BENGALURU, Dec 7 (Reuters) - Canada's double-d...</td>\n",
       "      <td>-0.5710</td>\n",
       "      <td>0.061</td>\n",
       "      <td>0.163</td>\n",
       "      <td>0.775</td>\n",
       "    </tr>\n",
       "    <tr>\n",
       "      <th>2</th>\n",
       "      <td>2021-11-24</td>\n",
       "      <td>OTTAWA, Nov 24 (Reuters) - Canadian housing pr...</td>\n",
       "      <td>-0.2732</td>\n",
       "      <td>0.077</td>\n",
       "      <td>0.130</td>\n",
       "      <td>0.793</td>\n",
       "    </tr>\n",
       "    <tr>\n",
       "      <th>3</th>\n",
       "      <td>2021-11-16</td>\n",
       "      <td>(Adds analyst quotes and details throughout, u...</td>\n",
       "      <td>-0.3182</td>\n",
       "      <td>0.000</td>\n",
       "      <td>0.073</td>\n",
       "      <td>0.927</td>\n",
       "    </tr>\n",
       "    <tr>\n",
       "      <th>4</th>\n",
       "      <td>2021-12-02</td>\n",
       "      <td>Reuters polls experts on the outlook for major...</td>\n",
       "      <td>0.3612</td>\n",
       "      <td>0.077</td>\n",
       "      <td>0.000</td>\n",
       "      <td>0.923</td>\n",
       "    </tr>\n",
       "  </tbody>\n",
       "</table>\n",
       "</div>"
      ],
      "text/plain": [
       "         date                                               text  compound  \\\n",
       "0  2021-11-16  * Canadian dollar weakens 0.2% against the gre...   -0.3182   \n",
       "1  2021-12-07  BENGALURU, Dec 7 (Reuters) - Canada's double-d...   -0.5710   \n",
       "2  2021-11-24  OTTAWA, Nov 24 (Reuters) - Canadian housing pr...   -0.2732   \n",
       "3  2021-11-16  (Adds analyst quotes and details throughout, u...   -0.3182   \n",
       "4  2021-12-02  Reuters polls experts on the outlook for major...    0.3612   \n",
       "\n",
       "   positive  negative  neutral  \n",
       "0     0.000     0.071    0.929  \n",
       "1     0.061     0.163    0.775  \n",
       "2     0.077     0.130    0.793  \n",
       "3     0.000     0.073    0.927  \n",
       "4     0.077     0.000    0.923  "
      ]
     },
     "execution_count": 57,
     "metadata": {},
     "output_type": "execute_result"
    }
   ],
   "source": [
    "# Create the Bitcoin sentiment scores DataFrame\n",
    "canhm_sentiments = []\n",
    "for article in housingmarket_news_en[\"articles\"]:\n",
    "    try:\n",
    "        text = article[\"content\"]\n",
    "        date = article[\"publishedAt\"][:10]\n",
    "        sentiment = analyzer.polarity_scores(text)\n",
    "        compound = sentiment[\"compound\"]\n",
    "        pos = sentiment[\"pos\"]\n",
    "        neu = sentiment[\"neu\"]\n",
    "        neg = sentiment[\"neg\"]\n",
    "        # append each element of each iteration to the btc_sentiments empty list\n",
    "        \n",
    "        canhm_sentiments.append({\n",
    "            \"text\": text,\n",
    "            \"date\": date,\n",
    "            \"compound\": compound,\n",
    "            \"positive\": pos,\n",
    "            \"negative\": neg,\n",
    "            \"neutral\": neu\n",
    "        })\n",
    "    except AttributeError:\n",
    "        pass\n",
    "    \n",
    "canhm_sentiments_df = pd.DataFrame(canhm_sentiments)\n",
    "cols = [\"date\", \"text\", \"compound\", \"positive\", \"negative\", \"neutral\"]\n",
    "canhm_sentiments_df = canhm_sentiments_df[cols]\n",
    "\n",
    "canhm_sentiments_df.head()"
   ]
  },
  {
   "cell_type": "code",
   "execution_count": 6,
   "id": "02d37f6d-606c-413d-b035-94821599b816",
   "metadata": {},
   "outputs": [
    {
     "data": {
      "text/html": [
       "<div>\n",
       "<style scoped>\n",
       "    .dataframe tbody tr th:only-of-type {\n",
       "        vertical-align: middle;\n",
       "    }\n",
       "\n",
       "    .dataframe tbody tr th {\n",
       "        vertical-align: top;\n",
       "    }\n",
       "\n",
       "    .dataframe thead th {\n",
       "        text-align: right;\n",
       "    }\n",
       "</style>\n",
       "<table border=\"1\" class=\"dataframe\">\n",
       "  <thead>\n",
       "    <tr style=\"text-align: right;\">\n",
       "      <th></th>\n",
       "      <th>compound</th>\n",
       "      <th>positive</th>\n",
       "      <th>negative</th>\n",
       "      <th>neutral</th>\n",
       "    </tr>\n",
       "  </thead>\n",
       "  <tbody>\n",
       "    <tr>\n",
       "      <th>count</th>\n",
       "      <td>20.000000</td>\n",
       "      <td>20.000000</td>\n",
       "      <td>20.000000</td>\n",
       "      <td>20.000000</td>\n",
       "    </tr>\n",
       "    <tr>\n",
       "      <th>mean</th>\n",
       "      <td>0.115725</td>\n",
       "      <td>0.068050</td>\n",
       "      <td>0.040300</td>\n",
       "      <td>0.891600</td>\n",
       "    </tr>\n",
       "    <tr>\n",
       "      <th>std</th>\n",
       "      <td>0.456127</td>\n",
       "      <td>0.061921</td>\n",
       "      <td>0.062357</td>\n",
       "      <td>0.067224</td>\n",
       "    </tr>\n",
       "    <tr>\n",
       "      <th>min</th>\n",
       "      <td>-0.680800</td>\n",
       "      <td>0.000000</td>\n",
       "      <td>0.000000</td>\n",
       "      <td>0.775000</td>\n",
       "    </tr>\n",
       "    <tr>\n",
       "      <th>25%</th>\n",
       "      <td>-0.284450</td>\n",
       "      <td>0.000000</td>\n",
       "      <td>0.000000</td>\n",
       "      <td>0.836750</td>\n",
       "    </tr>\n",
       "    <tr>\n",
       "      <th>50%</th>\n",
       "      <td>0.272250</td>\n",
       "      <td>0.077000</td>\n",
       "      <td>0.000000</td>\n",
       "      <td>0.902000</td>\n",
       "    </tr>\n",
       "    <tr>\n",
       "      <th>75%</th>\n",
       "      <td>0.396450</td>\n",
       "      <td>0.089000</td>\n",
       "      <td>0.071500</td>\n",
       "      <td>0.927500</td>\n",
       "    </tr>\n",
       "    <tr>\n",
       "      <th>max</th>\n",
       "      <td>0.709600</td>\n",
       "      <td>0.177000</td>\n",
       "      <td>0.167000</td>\n",
       "      <td>1.000000</td>\n",
       "    </tr>\n",
       "  </tbody>\n",
       "</table>\n",
       "</div>"
      ],
      "text/plain": [
       "        compound   positive   negative    neutral\n",
       "count  20.000000  20.000000  20.000000  20.000000\n",
       "mean    0.115725   0.068050   0.040300   0.891600\n",
       "std     0.456127   0.061921   0.062357   0.067224\n",
       "min    -0.680800   0.000000   0.000000   0.775000\n",
       "25%    -0.284450   0.000000   0.000000   0.836750\n",
       "50%     0.272250   0.077000   0.000000   0.902000\n",
       "75%     0.396450   0.089000   0.071500   0.927500\n",
       "max     0.709600   0.177000   0.167000   1.000000"
      ]
     },
     "execution_count": 6,
     "metadata": {},
     "output_type": "execute_result"
    }
   ],
   "source": [
    "canhm_sentiments_df.describe() ######Add Heatmap like gaph"
   ]
  },
  {
   "cell_type": "markdown",
   "id": "3cf49f1b-927a-44dd-9440-21a867ce3c76",
   "metadata": {},
   "source": [
    "### Tokenizer"
   ]
  },
  {
   "cell_type": "code",
   "execution_count": 59,
   "id": "c3574477-3c9b-4437-98d5-f0544b6e2cd2",
   "metadata": {},
   "outputs": [],
   "source": [
    "# Instantiate the lemmatizer\n",
    "lemmatizer = WordNetLemmatizer()\n",
    "\n",
    "# Create a list of stopwords\n",
    "sw = set(stopwords.words('english'))\n",
    "\n",
    "# Expand the default stopwords list if necessary\n",
    "stopwords_addons = {'said', 'sent', 'found', 'canadian', 'reuters', 'market','including','new', 'picture', 'today', 'announced', 'week', 'basically', 'also', 'chars', '\\r\\n'}"
   ]
  },
  {
   "cell_type": "code",
   "execution_count": 60,
   "id": "1bd34094-e655-4546-988b-9a8ff1af4444",
   "metadata": {},
   "outputs": [],
   "source": [
    "# Complete the tokenizer function\n",
    "def tokenizer(text):\n",
    "    \"\"\"Tokenizes text.\"\"\"\n",
    "    \n",
    "    # Remove the punctuation from text\n",
    "    \n",
    "    words = nltk.word_tokenize(text)\n",
    "    words = [word.lower() for word in words if word.isalpha()]\n",
    "    str_words = ' '.join(str(e) for e in words)\n",
    "    \n",
    "    # Create a tokenized list of the words\n",
    "    \n",
    "    doc = natural_processing(str_words)\n",
    "    doc_words = ' '.join(str(e) for e in doc)\n",
    "    tok = word_tokenize(doc_words)\n",
    "    result = [word.lower() for word in tok]\n",
    "    lemma_words = ' '.join(str(e) for e in result)\n",
    "    \n",
    "    # Lemmatize words into root words\n",
    "    \n",
    "    lemma_result = lemmatizer.lemmatize(lemma_words)\n",
    "   \n",
    "    # Convert the words to lowercase\n",
    "    \n",
    "    lower_result = [lemma_result.lower() for word in lemma_result]\n",
    "    re_words = ' '.join(str(e) for e in lower_result)\n",
    "    \n",
    "    # Remove the stop words\n",
    "    \n",
    "    re_words = word_tokenize(re_words)\n",
    "    tokens = [word.lower() for word in re_words if word.lower() not in sw.union(stopwords_addons)]\n",
    "    \n",
    "    \n",
    "    return tokens"
   ]
  },
  {
   "cell_type": "code",
   "execution_count": 61,
   "id": "b429210f-e6b8-4318-a606-1147e1e47900",
   "metadata": {},
   "outputs": [
    {
     "data": {
      "text/html": [
       "<div>\n",
       "<style scoped>\n",
       "    .dataframe tbody tr th:only-of-type {\n",
       "        vertical-align: middle;\n",
       "    }\n",
       "\n",
       "    .dataframe tbody tr th {\n",
       "        vertical-align: top;\n",
       "    }\n",
       "\n",
       "    .dataframe thead th {\n",
       "        text-align: right;\n",
       "    }\n",
       "</style>\n",
       "<table border=\"1\" class=\"dataframe\">\n",
       "  <thead>\n",
       "    <tr style=\"text-align: right;\">\n",
       "      <th></th>\n",
       "      <th>date</th>\n",
       "      <th>text</th>\n",
       "      <th>compound</th>\n",
       "      <th>positive</th>\n",
       "      <th>negative</th>\n",
       "      <th>neutral</th>\n",
       "      <th>tokens</th>\n",
       "    </tr>\n",
       "  </thead>\n",
       "  <tbody>\n",
       "    <tr>\n",
       "      <th>0</th>\n",
       "      <td>2021-11-16</td>\n",
       "      <td>* Canadian dollar weakens 0.2% against the gre...</td>\n",
       "      <td>-0.3182</td>\n",
       "      <td>0.000</td>\n",
       "      <td>0.071</td>\n",
       "      <td>0.929</td>\n",
       "      <td>[dollar, weakens, greenback, loonie, trades, r...</td>\n",
       "    </tr>\n",
       "    <tr>\n",
       "      <th>1</th>\n",
       "      <td>2021-12-07</td>\n",
       "      <td>BENGALURU, Dec 7 (Reuters) - Canada's double-d...</td>\n",
       "      <td>-0.5710</td>\n",
       "      <td>0.061</td>\n",
       "      <td>0.163</td>\n",
       "      <td>0.775</td>\n",
       "      <td>[bengaluru, dec, canada, house, price, inflati...</td>\n",
       "    </tr>\n",
       "    <tr>\n",
       "      <th>2</th>\n",
       "      <td>2021-11-24</td>\n",
       "      <td>OTTAWA, Nov 24 (Reuters) - Canadian housing pr...</td>\n",
       "      <td>-0.2732</td>\n",
       "      <td>0.077</td>\n",
       "      <td>0.130</td>\n",
       "      <td>0.793</td>\n",
       "      <td>[ottawa, nov, housing, prices, set, surge, com...</td>\n",
       "    </tr>\n",
       "    <tr>\n",
       "      <th>3</th>\n",
       "      <td>2021-11-16</td>\n",
       "      <td>(Adds analyst quotes and details throughout, u...</td>\n",
       "      <td>-0.3182</td>\n",
       "      <td>0.000</td>\n",
       "      <td>0.073</td>\n",
       "      <td>0.927</td>\n",
       "      <td>[adds, analyst, quotes, details, throughout, u...</td>\n",
       "    </tr>\n",
       "    <tr>\n",
       "      <th>4</th>\n",
       "      <td>2021-12-02</td>\n",
       "      <td>Reuters polls experts on the outlook for major...</td>\n",
       "      <td>0.3612</td>\n",
       "      <td>0.077</td>\n",
       "      <td>0.000</td>\n",
       "      <td>0.923</td>\n",
       "      <td>[polls, experts, outlook, major, world, econom...</td>\n",
       "    </tr>\n",
       "  </tbody>\n",
       "</table>\n",
       "</div>"
      ],
      "text/plain": [
       "         date                                               text  compound  \\\n",
       "0  2021-11-16  * Canadian dollar weakens 0.2% against the gre...   -0.3182   \n",
       "1  2021-12-07  BENGALURU, Dec 7 (Reuters) - Canada's double-d...   -0.5710   \n",
       "2  2021-11-24  OTTAWA, Nov 24 (Reuters) - Canadian housing pr...   -0.2732   \n",
       "3  2021-11-16  (Adds analyst quotes and details throughout, u...   -0.3182   \n",
       "4  2021-12-02  Reuters polls experts on the outlook for major...    0.3612   \n",
       "\n",
       "   positive  negative  neutral  \\\n",
       "0     0.000     0.071    0.929   \n",
       "1     0.061     0.163    0.775   \n",
       "2     0.077     0.130    0.793   \n",
       "3     0.000     0.073    0.927   \n",
       "4     0.077     0.000    0.923   \n",
       "\n",
       "                                              tokens  \n",
       "0  [dollar, weakens, greenback, loonie, trades, r...  \n",
       "1  [bengaluru, dec, canada, house, price, inflati...  \n",
       "2  [ottawa, nov, housing, prices, set, surge, com...  \n",
       "3  [adds, analyst, quotes, details, throughout, u...  \n",
       "4  [polls, experts, outlook, major, world, econom...  "
      ]
     },
     "execution_count": 61,
     "metadata": {},
     "output_type": "execute_result"
    }
   ],
   "source": [
    "# Create a new tokens column for Canadian Housing Market\n",
    "canhm_sentiments_df[\"tokens\"] = canhm_sentiments_df[\"text\"].apply(tokenizer)\n",
    "canhm_sentiments_df.head() ###Change it to datetime\n"
   ]
  },
  {
   "cell_type": "code",
   "execution_count": 52,
   "id": "5d435ce4-08b4-4489-9265-490de310af2a",
   "metadata": {},
   "outputs": [
    {
     "data": {
      "text/plain": [
       "<AxesSubplot:xlabel='date'>"
      ]
     },
     "execution_count": 52,
     "metadata": {},
     "output_type": "execute_result"
    },
    {
     "data": {
      "image/png": "[encoded data removed]",
      "text/plain": [
       "<Figure size 432x288 with 1 Axes>"
      ]
     },
     "metadata": {
      "needs_background": "light"
     },
     "output_type": "display_data"
    }
   ],
   "source": [
    "canhm_sentiments_df.plot(x='date',y='compound') ####why the date is not showing fully ?!"
   ]
  },
  {
   "cell_type": "code",
   "execution_count": 62,
   "id": "0ef2500c-f163-4a46-8af3-1c3302fd4fbd",
   "metadata": {},
   "outputs": [
    {
     "data": {
      "text/plain": [
       "<AxesSubplot:>"
      ]
     },
     "execution_count": 62,
     "metadata": {},
     "output_type": "execute_result"
    },
    {
     "data": {
      "image/png": "[encoded data removed]",
      "text/plain": [
       "<Figure size 432x288 with 1 Axes>"
      ]
     },
     "metadata": {
      "needs_background": "light"
     },
     "output_type": "display_data"
    }
   ],
   "source": [
    "canhm_sentiments_df.plot()"
   ]
  },
  {
   "cell_type": "code",
   "execution_count": 29,
   "id": "99601c33-047e-4e43-9aef-35cb48929936",
   "metadata": {},
   "outputs": [
    {
     "data": {
      "text/plain": [
       "[(('updates', 'prices'), 14588),\n",
       " (('stock', 'markets'), 14588),\n",
       " (('real', 'estate'), 14588),\n",
       " (('dollar', 'weakens'), 10941),\n",
       " (('weakens', 'greenback'), 10941),\n",
       " (('throughout', 'updates'), 10941),\n",
       " (('polls', 'experts'), 10941),\n",
       " (('experts', 'outlook'), 10941),\n",
       " (('outlook', 'major'), 10941),\n",
       " (('major', 'world'), 10941),\n",
       " (('world', 'economies'), 10941),\n",
       " (('economies', 'central'), 10941),\n",
       " (('central', 'bank'), 10941),\n",
       " (('bank', 'policy'), 10941),\n",
       " (('policy', 'foreign'), 10941),\n",
       " (('foreign', 'exchange'), 10941),\n",
       " (('exchange', 'rates'), 10941),\n",
       " (('rates', 'stock'), 10941),\n",
       " (('markets', 'money'), 10941),\n",
       " (('money', 'bond'), 10941)]"
      ]
     },
     "execution_count": 29,
     "metadata": {},
     "output_type": "execute_result"
    }
   ],
   "source": [
    "# Generate the Bitcoin N-grams where N=2\n",
    "canhm_grams = ngrams(tokenizer(canhm_sentiments_df[\"text\"].str.cat()), n=2)\n",
    "Counter(canhm_grams).most_common(20)"
   ]
  },
  {
   "cell_type": "code",
   "execution_count": 53,
   "id": "8c3af263-7b5e-4593-8f3d-66a7b5a09c38",
   "metadata": {},
   "outputs": [],
   "source": [
    "# Function token_count generates the top 10 words for a subject\n",
    "def token_count(tokens, N=3):\n",
    "    \"\"\"Returns the top N tokens from the frequency count\"\"\"\n",
    "    return Counter(tokens).most_common(N)"
   ]
  },
  {
   "cell_type": "code",
   "execution_count": 54,
   "id": "fe878aff-c604-4d05-9027-9ddcaa4b7bc9",
   "metadata": {},
   "outputs": [
    {
     "name": "stdout",
     "output_type": "stream",
     "text": [
      "[('housing', 29176), ('markets', 29176), ('prices', 29176), ('rates', 21882), ('nov', 18235), ('bank', 18235), ('stock', 18235), ('dollar', 14588), ('world', 14588), ('updates', 14588)]\n"
     ]
    }
   ],
   "source": [
    "# Use token_count to get the top 10 words for Canadian Housing MArket\n",
    "canhm_all = tokenizer(canhm_sentiments_df[\"text\"].str.cat())\n",
    "result_top10_canhm = token_count(canhm_all, 10)\n",
    "print(result_top10_canhm)"
   ]
  },
  {
   "cell_type": "code",
   "execution_count": null,
   "id": "5d179639-73f2-484b-9bdd-35c997e25dba",
   "metadata": {},
   "outputs": [],
   "source": []
  },
  {
   "cell_type": "markdown",
   "id": "ba3004f2",
   "metadata": {},
   "source": [
    "## 2. Qualitative Analysis - taking Twitter articles on the Canadian Housing Market \n",
    "\n",
    "Use the Twitter APIv2 to pull the latest news articles for the Canadian Housing Market"
   ]
  },
  {
   "cell_type": "code",
   "execution_count": null,
   "id": "8defb926",
   "metadata": {},
   "outputs": [],
   "source": [
    "# import requests\n",
    "# import os\n",
    "# import json\n",
    "\n",
    "# # To set your environment variables in your terminal run the following line:\n",
    "# # export 'BEARER_TOKEN'='<your_bearer_token>'\n",
    "# bearer_token = os.getenv(\"twitter_bearer_token\")\n",
    "\n",
    "# search_url = \"https://api.twitter.com/2/tweets/search/\"\n",
    "\n",
    "# # Optional params: start_time,end_time,since_id,until_id,max_results,next_token,\n",
    "# # expansions,tweet.fields,media.fields,poll.fields,place.fields,user.fields\n",
    "# query_params = {'query': '(\"Canadian Housing Market\") -\"recent search\" OR #twitterdev','tweet.fields': 'author_id'}"
   ]
  },
  {
   "cell_type": "code",
   "execution_count": null,
   "id": "3cb883a8",
   "metadata": {},
   "outputs": [],
   "source": [
    "# def bearer_oauth(r):\n",
    "#     \"\"\"\n",
    "#     Method required by bearer token authentication.\n",
    "#     \"\"\"\n",
    "\n",
    "#     r.headers[\"Authorization\"] = f\"Bearer {bearer_token}\"\n",
    "#     r.headers[\"User-Agent\"] = \"v2RecentSearchPython\"\n",
    "#     return r\n",
    "\n",
    "# def connect_to_endpoint(url, params):\n",
    "#     response = requests.get(url, auth=bearer_oauth, params=params)\n",
    "#     print(response.status_code)\n",
    "#     if response.status_code != 200:\n",
    "#         raise Exception(response.status_code, response.text)\n",
    "#     return response.json()\n",
    "\n",
    "\n",
    "# def main():\n",
    "#     json_response = connect_to_endpoint(search_url, query_params)\n",
    "#     print(json.dumps(json_response, indent=4, sort_keys=True))\n",
    "\n",
    "\n",
    "# if __name__ == \"__main__\":\n",
    "#     main()"
   ]
  },
  {
   "cell_type": "code",
   "execution_count": null,
   "id": "7fa0de3a-a446-4b7c-ae3b-7b328ed64fec",
   "metadata": {},
   "outputs": [],
   "source": [
    "import requests\n",
    "import os\n",
    "import json\n",
    "\n",
    "# To set your environment variables in your terminal run the following line:\n",
    "# export 'BEARER_TOKEN'='<your_bearer_token>'\n",
    "bearer_token = os.environ.get(\"BEARER_TOKEN\")\n",
    "\n",
    "search_url = \"https://api.twitter.com/2/tweets/search/all\"\n",
    "\n",
    "# Optional params: start_time,end_time,since_id,until_id,max_results,next_token,\n",
    "# expansions,tweet.fields,media.fields,poll.fields,place.fields,user.fields\n",
    "query_params = {'query': '(\"Canada\") OR #twitterdev','tweet.fields': 'author_id'}"
   ]
  },
  {
   "cell_type": "code",
   "execution_count": null,
   "id": "43e8e789-ee61-4c04-9afa-efc9f5c532df",
   "metadata": {},
   "outputs": [],
   "source": [
    "def bearer_oauth(r):\n",
    "    \"\"\"\n",
    "    Method required by bearer token authentication.\n",
    "    \"\"\"\n",
    "\n",
    "    r.headers[\"Authorization\"] = f\"Bearer {bearer_token}\"\n",
    "    r.headers[\"User-Agent\"] = \"v2FullArchiveSearchPython\"\n",
    "    return r\n",
    "\n",
    "\n",
    "def connect_to_endpoint(url, params):\n",
    "    response = requests.request(\"GET\", search_url, auth=bearer_oauth, params=params)\n",
    "    print(response.status_code)\n",
    "    if response.status_code != 200:\n",
    "        raise Exception(response.status_code, response.text)\n",
    "    return response.json()\n",
    "\n",
    "\n",
    "def main():\n",
    "    json_response = connect_to_endpoint(search_url, query_params)\n",
    "    print(json.dumps(json_response, indent=4, sort_keys=True))\n",
    "\n",
    "\n",
    "if __name__ == \"__main__\":\n",
    "    main()"
   ]
  },
  {
   "cell_type": "code",
   "execution_count": null,
   "id": "94c5a67a-de1a-45df-b771-119c64f430c4",
   "metadata": {},
   "outputs": [],
   "source": []
  }
 ],
 "metadata": {
  "kernelspec": {
   "display_name": "Python 3 (ipykernel)",
   "language": "python",
   "name": "python3"
  },
  "language_info": {
   "codemirror_mode": {
    "name": "ipython",
    "version": 3
   },
   "file_extension": ".py",
   "mimetype": "text/x-python",
   "name": "python",
   "nbconvert_exporter": "python",
   "pygments_lexer": "ipython3",
   "version": "3.8.12"
  }
 },
 "nbformat": 4,
 "nbformat_minor": 5
}
