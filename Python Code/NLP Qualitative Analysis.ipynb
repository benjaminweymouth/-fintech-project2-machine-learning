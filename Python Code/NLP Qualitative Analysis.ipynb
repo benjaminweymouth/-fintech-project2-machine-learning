{
 "cells": [
  {
   "cell_type": "code",
   "execution_count": 1,
   "id": "987118cd",
   "metadata": {},
   "outputs": [
    {
     "name": "stderr",
     "output_type": "stream",
     "text": [
      "[nltk_data] Downloading package vader_lexicon to\n",
      "[nltk_data]     C:\\Users\\benja\\AppData\\Roaming\\nltk_data...\n",
      "[nltk_data]   Package vader_lexicon is already up-to-date!\n"
     ]
    }
   ],
   "source": [
    "# Initial imports\n",
    "import os\n",
    "import pandas as pd\n",
    "from dotenv import load_dotenv\n",
    "import nltk as nltk\n",
    "import requests\n",
    "import os\n",
    "import json\n",
    "nltk.download('vader_lexicon')\n",
    "from nltk.sentiment.vader import SentimentIntensityAnalyzer\n",
    "analyzer = SentimentIntensityAnalyzer()\n",
    "from path import Path\n",
    "from newsapi import NewsApiClient\n",
    "import spacy\n",
    "from spacy import displacy\n",
    "\n",
    "%matplotlib inline"
   ]
  },
  {
   "cell_type": "markdown",
   "id": "22c00fba",
   "metadata": {},
   "source": [
    "## 1. Qualitative Analysis - taking NewsAPI articles on the Canadian Housing Market \n",
    "\n",
    "Use the [newsapi](https://newsapi.org/) to pull the latest news articles for the Canadian Housing Market"
   ]
  },
  {
   "cell_type": "code",
   "execution_count": 2,
   "id": "3c67c5b8",
   "metadata": {},
   "outputs": [],
   "source": [
    "# Read your api key environment variable\n",
    "# Load environment variables and retrieve the News API key\n",
    "load_dotenv()\n",
    "api_key = os.getenv(\"NEWS_API_KEY\")"
   ]
  },
  {
   "cell_type": "code",
   "execution_count": 3,
   "id": "b4bed27d",
   "metadata": {},
   "outputs": [],
   "source": [
    "# Create the newsapi client\n",
    "newsapi = NewsApiClient(api_key=api_key)"
   ]
  },
  {
   "cell_type": "code",
   "execution_count": 4,
   "id": "e965387a",
   "metadata": {},
   "outputs": [],
   "source": [
    "nlp = spacy.load('en_core_web_sm')"
   ]
  },
  {
   "cell_type": "code",
   "execution_count": 5,
   "id": "4a00218c",
   "metadata": {},
   "outputs": [
    {
     "data": {
      "text/plain": [
       "157"
      ]
     },
     "execution_count": 5,
     "metadata": {},
     "output_type": "execute_result"
    }
   ],
   "source": [
    "# Fetch the Bitcoin news articles\n",
    "housingmarket_news_en = newsapi.get_everything(\n",
    "    q=\"Canadian Housing Market\",\n",
    "    language=\"en\"\n",
    ")\n",
    "\n",
    "# Show the total number of news\n",
    "housingmarket_news_en[\"totalResults\"]"
   ]
  },
  {
   "cell_type": "code",
   "execution_count": null,
   "id": "3f6207ce",
   "metadata": {},
   "outputs": [],
   "source": []
  },
  {
   "cell_type": "code",
   "execution_count": null,
   "id": "58e4385a",
   "metadata": {},
   "outputs": [],
   "source": []
  },
  {
   "cell_type": "code",
   "execution_count": null,
   "id": "4ed61fde",
   "metadata": {},
   "outputs": [],
   "source": []
  },
  {
   "cell_type": "markdown",
   "id": "f666ac6c",
   "metadata": {},
   "source": [
    "## 1. Qualitative Analysis - taking Twitter articles on the Canadian Housing Market \n",
    "\n",
    "Use the Twitter APIv2 to pull the latest news articles for the Canadian Housing Market"
   ]
  },
  {
   "cell_type": "code",
   "execution_count": 8,
   "id": "055485d5",
   "metadata": {},
   "outputs": [],
   "source": [
    "import requests\n",
    "import os\n",
    "import json\n",
    "\n",
    "# To set your environment variables in your terminal run the following line:\n",
    "# export 'BEARER_TOKEN'='<your_bearer_token>'\n",
    "bearer_token = os.getenv(\"twitter_bearer_token\")\n",
    "\n",
    "search_url = \"https://api.twitter.com/2/tweets/search/recent\"\n",
    "\n",
    "# Optional params: start_time,end_time,since_id,until_id,max_results,next_token,\n",
    "# expansions,tweet.fields,media.fields,poll.fields,place.fields,user.fields\n",
    "query_params = {'query': '(\"Canadian Housing Market\") -\"recent search\" OR #twitterdev','tweet.fields': 'author_id'}\n",
    "\n"
   ]
  },
  {
   "cell_type": "code",
   "execution_count": 9,
   "id": "068995b9",
   "metadata": {},
   "outputs": [
    {
     "name": "stdout",
     "output_type": "stream",
     "text": [
      "200\n",
      "{\n",
      "    \"data\": [\n",
      "        {\n",
      "            \"author_id\": \"21298976\",\n",
      "            \"id\": \"1465703559610048519\",\n",
      "            \"text\": \"WOW - The number of people adding at least a fourth mortgage advanced 7.7 per cent, doubling the figure among first-time borrowers in the 12 months ending in June.\\n\\nhttps://t.co/ftZNmjqNyo\\n\\n#mortgages #realestate #realestateinvesting https://t.co/8qqyt78lHl\"\n",
      "        },\n",
      "        {\n",
      "            \"author_id\": \"794190151551512576\",\n",
      "            \"id\": \"1465691296056721410\",\n",
      "            \"text\": \"\\\"Canada is addicted to mortgage debt.\\\"\\n\\nWhen #interestRates rise, be sure you have your #mortgage strategy in place. \\n\\nDon't have a mortgage strategy? Let's plan one for you.\\n\\nhttps://t.co/ZAueZTL0jl\"\n",
      "        },\n",
      "        {\n",
      "            \"author_id\": \"403751813\",\n",
      "            \"id\": \"1465651043715407884\",\n",
      "            \"text\": \"Investors Remain Active in the Hot #Canadian #Housing Market https://t.co/Upa6xVrRF0 #RealEstate #Investing #Mortgage #Realtor #property #REINCanada #Ontario\"\n",
      "        },\n",
      "        {\n",
      "            \"author_id\": \"1422798764671074304\",\n",
      "            \"id\": \"1465542769384980484\",\n",
      "            \"text\": \"RT @Holarammeghwal1: \\u0928\\u092e\\u094b \\u092c\\u0941\\u0926\\u094d\\u0927\\u093e\\u092f\\u0964\\n#jaibhim #jybhim #jaybhimmovie #\\u091c\\u092f\\u092d\\u0940\\u092e #\\u0907\\u0902\\u0921\\u093f\\u092f\\u093e\\n#india #Worlds2021 #LISA #BalondeOro #theprincesandthepress\\u2026\"\n",
      "        },\n",
      "        {\n",
      "            \"author_id\": \"1422798764671074304\",\n",
      "            \"id\": \"1465542725848035331\",\n",
      "            \"text\": \"\\u0928\\u092e\\u094b \\u092c\\u0941\\u0926\\u094d\\u0927\\u093e\\u092f\\u0964\\n#jaibhim #jybhim #jaybhimmovie #\\u091c\\u092f\\u092d\\u0940\\u092e #\\u0907\\u0902\\u0921\\u093f\\u092f\\u093e\\n#india #Worlds2021 #LISA #BalondeOro #theprincesandthepress #Omicron #GOAT #CyberMonday #BallonDor2021 #Twitter #twitterdev https://t.co/bMeNYVCqWx\"\n",
      "        },\n",
      "        {\n",
      "            \"author_id\": \"2388168248\",\n",
      "            \"id\": \"1465519993693614082\",\n",
      "            \"text\": \"Investors Remain Active in the Hot Canadian Housing Market - RE/MAX News https://t.co/CwvOXzlAgo #housing #Vancouver #development #planning #letstalkhousing\"\n",
      "        },\n",
      "        {\n",
      "            \"author_id\": \"235258283\",\n",
      "            \"id\": \"1465475929795297285\",\n",
      "            \"text\": \"@RFDelaney @Ayan604 @SCMPNews @ianjamesyoung70 There are a multitude of problems in the Canadian housing market, commodification, insiders controlling supply, poor regulation, market manipulation by industry and weekend get rich \\u2018I have no real job\\u2019 speculators\"\n",
      "        },\n",
      "        {\n",
      "            \"author_id\": \"1443508522768125955\",\n",
      "            \"id\": \"1465314401460887555\",\n",
      "            \"text\": \"@delmastrodean @whip4life @maverick_party I'm not sure the Canadian housing market is a great example of a free, unfettered market?\"\n",
      "        },\n",
      "        {\n",
      "            \"author_id\": \"1291101546478886912\",\n",
      "            \"id\": \"1465236181499592705\",\n",
      "            \"text\": \"RT @gauloics: #TwitterApi #TwitterDev #PipedreamDev\\n\\nYeah\\nSoon... https://t.co/IdlnGDNBnE\"\n",
      "        },\n",
      "        {\n",
      "            \"author_id\": \"1334327906735017985\",\n",
      "            \"id\": \"1465235421487534082\",\n",
      "            \"text\": \"RT @gauloics: #TwitterApi #TwitterDev #PipedreamDev\\n\\nYeah\\nSoon... https://t.co/IdlnGDNBnE\"\n",
      "        }\n",
      "    ],\n",
      "    \"meta\": {\n",
      "        \"newest_id\": \"1465703559610048519\",\n",
      "        \"next_token\": \"b26v89c19zqg8o3fpdy7o29m5bsax2r53hfg2lbbvui65\",\n",
      "        \"oldest_id\": \"1465235421487534082\",\n",
      "        \"result_count\": 10\n",
      "    }\n",
      "}\n"
     ]
    }
   ],
   "source": [
    "def bearer_oauth(r):\n",
    "    \"\"\"\n",
    "    Method required by bearer token authentication.\n",
    "    \"\"\"\n",
    "\n",
    "    r.headers[\"Authorization\"] = f\"Bearer {bearer_token}\"\n",
    "    r.headers[\"User-Agent\"] = \"v2RecentSearchPython\"\n",
    "    return r\n",
    "\n",
    "def connect_to_endpoint(url, params):\n",
    "    response = requests.get(url, auth=bearer_oauth, params=params)\n",
    "    print(response.status_code)\n",
    "    if response.status_code != 200:\n",
    "        raise Exception(response.status_code, response.text)\n",
    "    return response.json()\n",
    "\n",
    "\n",
    "def main():\n",
    "    json_response = connect_to_endpoint(search_url, query_params)\n",
    "    print(json.dumps(json_response, indent=4, sort_keys=True))\n",
    "\n",
    "\n",
    "if __name__ == \"__main__\":\n",
    "    main()"
   ]
  },
  {
   "cell_type": "code",
   "execution_count": null,
   "id": "6a1e09cc",
   "metadata": {},
   "outputs": [],
   "source": []
  }
 ],
 "metadata": {
  "kernelspec": {
   "display_name": "Python 3 (ipykernel)",
   "language": "python",
   "name": "python3"
  },
  "language_info": {
   "codemirror_mode": {
    "name": "ipython",
    "version": 3
   },
   "file_extension": ".py",
   "mimetype": "text/x-python",
   "name": "python",
   "nbconvert_exporter": "python",
   "pygments_lexer": "ipython3",
   "version": "3.8.5"
  }
 },
 "nbformat": 4,
 "nbformat_minor": 5
}
