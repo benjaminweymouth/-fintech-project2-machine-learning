{
 "cells": [
  {
   "cell_type": "markdown",
   "id": "cecb5f11",
   "metadata": {},
   "source": [
    "# Canadian Housing Market Forecasting: Time Series Analysis & Modelling.\n",
    "Description:  "
   ]
  },
  {
   "cell_type": "code",
   "execution_count": 1,
   "id": "4c397aa7",
   "metadata": {},
   "outputs": [],
   "source": [
    "import numpy as np\n",
    "import pandas as pd\n",
    "from pathlib import Path\n",
    "%matplotlib inline\n",
    "\n",
    "import warnings\n",
    "warnings.simplefilter(action='ignore', category=Warning)"
   ]
  },
  {
   "cell_type": "code",
   "execution_count": 43,
   "id": "87c1654e",
   "metadata": {},
   "outputs": [],
   "source": [
    "import pandas as pd\n",
    "import numpy as np\n",
    "import matplotlib.pyplot as plt\n",
    "%matplotlib inline\n",
    "\n",
    "# Import Statsmodels\n",
    "from statsmodels.tsa.api import VAR\n",
    "from statsmodels.tsa.stattools import adfuller\n",
    "from statsmodels.tools.eval_measures import rmse, aic"
   ]
  },
  {
   "cell_type": "markdown",
   "id": "41853271",
   "metadata": {},
   "source": [
    "# Data Ingestion and Data Cleaning\n",
    "Description: "
   ]
  },
  {
   "cell_type": "code",
   "execution_count": 2,
   "id": "f7357eda",
   "metadata": {},
   "outputs": [
    {
     "data": {
      "text/html": [
       "<div>\n",
       "<style scoped>\n",
       "    .dataframe tbody tr th:only-of-type {\n",
       "        vertical-align: middle;\n",
       "    }\n",
       "\n",
       "    .dataframe tbody tr th {\n",
       "        vertical-align: top;\n",
       "    }\n",
       "\n",
       "    .dataframe thead th {\n",
       "        text-align: right;\n",
       "    }\n",
       "</style>\n",
       "<table border=\"1\" class=\"dataframe\">\n",
       "  <thead>\n",
       "    <tr style=\"text-align: right;\">\n",
       "      <th></th>\n",
       "      <th>Prime rate</th>\n",
       "      <th>1-year Conventional mortgage</th>\n",
       "      <th>3-year Conventional mortgage</th>\n",
       "      <th>5-year Conventional mortgage</th>\n",
       "      <th>1-year GIC</th>\n",
       "      <th>3-year GIC</th>\n",
       "      <th>5-year GIC</th>\n",
       "      <th>5-year personal fixed term</th>\n",
       "      <th>Daily Interest Savings (balances over $100,000)</th>\n",
       "      <th>Non-Chequable Savings Deposits</th>\n",
       "    </tr>\n",
       "    <tr>\n",
       "      <th>date</th>\n",
       "      <th></th>\n",
       "      <th></th>\n",
       "      <th></th>\n",
       "      <th></th>\n",
       "      <th></th>\n",
       "      <th></th>\n",
       "      <th></th>\n",
       "      <th></th>\n",
       "      <th></th>\n",
       "      <th></th>\n",
       "    </tr>\n",
       "  </thead>\n",
       "  <tbody>\n",
       "    <tr>\n",
       "      <th>1967-04-05</th>\n",
       "      <td>NaN</td>\n",
       "      <td>NaN</td>\n",
       "      <td>NaN</td>\n",
       "      <td>NaN</td>\n",
       "      <td>NaN</td>\n",
       "      <td>NaN</td>\n",
       "      <td>NaN</td>\n",
       "      <td>NaN</td>\n",
       "      <td>NaN</td>\n",
       "      <td>4.5</td>\n",
       "    </tr>\n",
       "    <tr>\n",
       "      <th>1967-04-12</th>\n",
       "      <td>NaN</td>\n",
       "      <td>NaN</td>\n",
       "      <td>NaN</td>\n",
       "      <td>NaN</td>\n",
       "      <td>NaN</td>\n",
       "      <td>NaN</td>\n",
       "      <td>NaN</td>\n",
       "      <td>NaN</td>\n",
       "      <td>NaN</td>\n",
       "      <td>4.5</td>\n",
       "    </tr>\n",
       "    <tr>\n",
       "      <th>1967-04-19</th>\n",
       "      <td>NaN</td>\n",
       "      <td>NaN</td>\n",
       "      <td>NaN</td>\n",
       "      <td>NaN</td>\n",
       "      <td>NaN</td>\n",
       "      <td>NaN</td>\n",
       "      <td>NaN</td>\n",
       "      <td>NaN</td>\n",
       "      <td>NaN</td>\n",
       "      <td>4.5</td>\n",
       "    </tr>\n",
       "    <tr>\n",
       "      <th>1967-04-26</th>\n",
       "      <td>NaN</td>\n",
       "      <td>NaN</td>\n",
       "      <td>NaN</td>\n",
       "      <td>NaN</td>\n",
       "      <td>NaN</td>\n",
       "      <td>NaN</td>\n",
       "      <td>NaN</td>\n",
       "      <td>NaN</td>\n",
       "      <td>NaN</td>\n",
       "      <td>4.5</td>\n",
       "    </tr>\n",
       "    <tr>\n",
       "      <th>1967-05-03</th>\n",
       "      <td>NaN</td>\n",
       "      <td>NaN</td>\n",
       "      <td>NaN</td>\n",
       "      <td>NaN</td>\n",
       "      <td>NaN</td>\n",
       "      <td>NaN</td>\n",
       "      <td>NaN</td>\n",
       "      <td>NaN</td>\n",
       "      <td>NaN</td>\n",
       "      <td>4.5</td>\n",
       "    </tr>\n",
       "  </tbody>\n",
       "</table>\n",
       "</div>"
      ],
      "text/plain": [
       "            Prime rate  1-year Conventional mortgage  \\\n",
       "date                                                   \n",
       "1967-04-05         NaN                           NaN   \n",
       "1967-04-12         NaN                           NaN   \n",
       "1967-04-19         NaN                           NaN   \n",
       "1967-04-26         NaN                           NaN   \n",
       "1967-05-03         NaN                           NaN   \n",
       "\n",
       "            3-year Conventional mortgage  5-year Conventional mortgage  \\\n",
       "date                                                                     \n",
       "1967-04-05                           NaN                           NaN   \n",
       "1967-04-12                           NaN                           NaN   \n",
       "1967-04-19                           NaN                           NaN   \n",
       "1967-04-26                           NaN                           NaN   \n",
       "1967-05-03                           NaN                           NaN   \n",
       "\n",
       "            1-year GIC  3-year GIC  5-year GIC  5-year personal fixed term  \\\n",
       "date                                                                         \n",
       "1967-04-05         NaN         NaN         NaN                         NaN   \n",
       "1967-04-12         NaN         NaN         NaN                         NaN   \n",
       "1967-04-19         NaN         NaN         NaN                         NaN   \n",
       "1967-04-26         NaN         NaN         NaN                         NaN   \n",
       "1967-05-03         NaN         NaN         NaN                         NaN   \n",
       "\n",
       "            Daily Interest Savings (balances over $100,000)  \\\n",
       "date                                                          \n",
       "1967-04-05                                              NaN   \n",
       "1967-04-12                                              NaN   \n",
       "1967-04-19                                              NaN   \n",
       "1967-04-26                                              NaN   \n",
       "1967-05-03                                              NaN   \n",
       "\n",
       "            Non-Chequable Savings Deposits  \n",
       "date                                        \n",
       "1967-04-05                             4.5  \n",
       "1967-04-12                             4.5  \n",
       "1967-04-19                             4.5  \n",
       "1967-04-26                             4.5  \n",
       "1967-05-03                             4.5  "
      ]
     },
     "execution_count": 2,
     "metadata": {},
     "output_type": "execute_result"
    }
   ],
   "source": [
    "#csv for mortgage rates chartered_bank_interest.csv\n",
    "#ingest the csv \n",
    "#take all dates after 1975-01-01\n",
    "#take only the column named 5-year Conventional mortgage\n",
    "df_chartered_bank_i = pd.read_csv('../Resources/Datasets/chartered_bank_interest.csv', index_col=\"date\", infer_datetime_format=True, parse_dates=True)\n",
    "df_chartered_bank_i.head()"
   ]
  },
  {
   "cell_type": "code",
   "execution_count": 3,
   "id": "825b798a-2f31-45d7-aa23-2378bbd459f1",
   "metadata": {},
   "outputs": [
    {
     "data": {
      "text/html": [
       "<div>\n",
       "<style scoped>\n",
       "    .dataframe tbody tr th:only-of-type {\n",
       "        vertical-align: middle;\n",
       "    }\n",
       "\n",
       "    .dataframe tbody tr th {\n",
       "        vertical-align: top;\n",
       "    }\n",
       "\n",
       "    .dataframe thead th {\n",
       "        text-align: right;\n",
       "    }\n",
       "</style>\n",
       "<table border=\"1\" class=\"dataframe\">\n",
       "  <thead>\n",
       "    <tr style=\"text-align: right;\">\n",
       "      <th></th>\n",
       "      <th>Prime rate</th>\n",
       "      <th>1-year Conventional mortgage</th>\n",
       "      <th>3-year Conventional mortgage</th>\n",
       "      <th>5-year Conventional mortgage</th>\n",
       "      <th>1-year GIC</th>\n",
       "      <th>3-year GIC</th>\n",
       "      <th>5-year GIC</th>\n",
       "      <th>5-year personal fixed term</th>\n",
       "      <th>Daily Interest Savings (balances over $100,000)</th>\n",
       "      <th>Non-Chequable Savings Deposits</th>\n",
       "    </tr>\n",
       "    <tr>\n",
       "      <th>date</th>\n",
       "      <th></th>\n",
       "      <th></th>\n",
       "      <th></th>\n",
       "      <th></th>\n",
       "      <th></th>\n",
       "      <th></th>\n",
       "      <th></th>\n",
       "      <th></th>\n",
       "      <th></th>\n",
       "      <th></th>\n",
       "    </tr>\n",
       "  </thead>\n",
       "  <tbody>\n",
       "    <tr>\n",
       "      <th>2020-12-31</th>\n",
       "      <td>2.45</td>\n",
       "      <td>3.090000</td>\n",
       "      <td>3.556154</td>\n",
       "      <td>4.79</td>\n",
       "      <td>0.350000</td>\n",
       "      <td>0.600000</td>\n",
       "      <td>0.857692</td>\n",
       "      <td>0.700000</td>\n",
       "      <td>0.01</td>\n",
       "      <td>0.01</td>\n",
       "    </tr>\n",
       "    <tr>\n",
       "      <th>2021-03-31</th>\n",
       "      <td>2.45</td>\n",
       "      <td>2.813077</td>\n",
       "      <td>3.490000</td>\n",
       "      <td>4.79</td>\n",
       "      <td>0.315385</td>\n",
       "      <td>0.530769</td>\n",
       "      <td>0.853846</td>\n",
       "      <td>0.700000</td>\n",
       "      <td>0.01</td>\n",
       "      <td>0.01</td>\n",
       "    </tr>\n",
       "    <tr>\n",
       "      <th>2021-06-30</th>\n",
       "      <td>2.45</td>\n",
       "      <td>2.790000</td>\n",
       "      <td>3.490000</td>\n",
       "      <td>4.79</td>\n",
       "      <td>0.250000</td>\n",
       "      <td>0.553846</td>\n",
       "      <td>1.003846</td>\n",
       "      <td>0.700000</td>\n",
       "      <td>0.01</td>\n",
       "      <td>0.01</td>\n",
       "    </tr>\n",
       "    <tr>\n",
       "      <th>2021-09-30</th>\n",
       "      <td>2.45</td>\n",
       "      <td>2.790000</td>\n",
       "      <td>3.490000</td>\n",
       "      <td>4.79</td>\n",
       "      <td>0.250000</td>\n",
       "      <td>0.600000</td>\n",
       "      <td>1.000000</td>\n",
       "      <td>0.700000</td>\n",
       "      <td>0.01</td>\n",
       "      <td>0.01</td>\n",
       "    </tr>\n",
       "    <tr>\n",
       "      <th>2021-12-31</th>\n",
       "      <td>2.45</td>\n",
       "      <td>2.790000</td>\n",
       "      <td>3.490000</td>\n",
       "      <td>4.79</td>\n",
       "      <td>0.261111</td>\n",
       "      <td>0.616667</td>\n",
       "      <td>1.020000</td>\n",
       "      <td>0.764444</td>\n",
       "      <td>0.01</td>\n",
       "      <td>0.01</td>\n",
       "    </tr>\n",
       "  </tbody>\n",
       "</table>\n",
       "</div>"
      ],
      "text/plain": [
       "            Prime rate  1-year Conventional mortgage  \\\n",
       "date                                                   \n",
       "2020-12-31        2.45                      3.090000   \n",
       "2021-03-31        2.45                      2.813077   \n",
       "2021-06-30        2.45                      2.790000   \n",
       "2021-09-30        2.45                      2.790000   \n",
       "2021-12-31        2.45                      2.790000   \n",
       "\n",
       "            3-year Conventional mortgage  5-year Conventional mortgage  \\\n",
       "date                                                                     \n",
       "2020-12-31                      3.556154                          4.79   \n",
       "2021-03-31                      3.490000                          4.79   \n",
       "2021-06-30                      3.490000                          4.79   \n",
       "2021-09-30                      3.490000                          4.79   \n",
       "2021-12-31                      3.490000                          4.79   \n",
       "\n",
       "            1-year GIC  3-year GIC  5-year GIC  5-year personal fixed term  \\\n",
       "date                                                                         \n",
       "2020-12-31    0.350000    0.600000    0.857692                    0.700000   \n",
       "2021-03-31    0.315385    0.530769    0.853846                    0.700000   \n",
       "2021-06-30    0.250000    0.553846    1.003846                    0.700000   \n",
       "2021-09-30    0.250000    0.600000    1.000000                    0.700000   \n",
       "2021-12-31    0.261111    0.616667    1.020000                    0.764444   \n",
       "\n",
       "            Daily Interest Savings (balances over $100,000)  \\\n",
       "date                                                          \n",
       "2020-12-31                                             0.01   \n",
       "2021-03-31                                             0.01   \n",
       "2021-06-30                                             0.01   \n",
       "2021-09-30                                             0.01   \n",
       "2021-12-31                                             0.01   \n",
       "\n",
       "            Non-Chequable Savings Deposits  \n",
       "date                                        \n",
       "2020-12-31                            0.01  \n",
       "2021-03-31                            0.01  \n",
       "2021-06-30                            0.01  \n",
       "2021-09-30                            0.01  \n",
       "2021-12-31                            0.01  "
      ]
     },
     "execution_count": 3,
     "metadata": {},
     "output_type": "execute_result"
    }
   ],
   "source": [
    "# Convert daily data to monthly through the resample function\n",
    "df_chartered_bank_i.index = pd.to_datetime(df_chartered_bank_i.index)\n",
    "df_chartered_bank_i_cleaned = df_chartered_bank_i.resample('1Q').mean()\n",
    "df_chartered_bank_i_cleaned.tail()"
   ]
  },
  {
   "cell_type": "code",
   "execution_count": 4,
   "id": "d674006e",
   "metadata": {},
   "outputs": [
    {
     "data": {
      "text/html": [
       "<div>\n",
       "<style scoped>\n",
       "    .dataframe tbody tr th:only-of-type {\n",
       "        vertical-align: middle;\n",
       "    }\n",
       "\n",
       "    .dataframe tbody tr th {\n",
       "        vertical-align: top;\n",
       "    }\n",
       "\n",
       "    .dataframe thead th {\n",
       "        text-align: right;\n",
       "    }\n",
       "</style>\n",
       "<table border=\"1\" class=\"dataframe\">\n",
       "  <thead>\n",
       "    <tr style=\"text-align: right;\">\n",
       "      <th></th>\n",
       "      <th>5-year Conventional mortgage</th>\n",
       "    </tr>\n",
       "    <tr>\n",
       "      <th>date</th>\n",
       "      <th></th>\n",
       "    </tr>\n",
       "  </thead>\n",
       "  <tbody>\n",
       "    <tr>\n",
       "      <th>1967-06-30</th>\n",
       "      <td>NaN</td>\n",
       "    </tr>\n",
       "    <tr>\n",
       "      <th>1967-09-30</th>\n",
       "      <td>NaN</td>\n",
       "    </tr>\n",
       "    <tr>\n",
       "      <th>1967-12-31</th>\n",
       "      <td>NaN</td>\n",
       "    </tr>\n",
       "    <tr>\n",
       "      <th>1968-03-31</th>\n",
       "      <td>NaN</td>\n",
       "    </tr>\n",
       "    <tr>\n",
       "      <th>1968-06-30</th>\n",
       "      <td>NaN</td>\n",
       "    </tr>\n",
       "  </tbody>\n",
       "</table>\n",
       "</div>"
      ],
      "text/plain": [
       "            5-year Conventional mortgage\n",
       "date                                    \n",
       "1967-06-30                           NaN\n",
       "1967-09-30                           NaN\n",
       "1967-12-31                           NaN\n",
       "1968-03-31                           NaN\n",
       "1968-06-30                           NaN"
      ]
     },
     "execution_count": 4,
     "metadata": {},
     "output_type": "execute_result"
    }
   ],
   "source": [
    "df_chartered_bank_i_cleaned.drop(df_chartered_bank_i_cleaned.columns.difference(['5-year Conventional mortgage']), 1, inplace=True)\n",
    "df_chartered_bank_i_cleaned.head()"
   ]
  },
  {
   "cell_type": "code",
   "execution_count": 5,
   "id": "493f7d61",
   "metadata": {},
   "outputs": [
    {
     "data": {
      "text/html": [
       "<div>\n",
       "<style scoped>\n",
       "    .dataframe tbody tr th:only-of-type {\n",
       "        vertical-align: middle;\n",
       "    }\n",
       "\n",
       "    .dataframe tbody tr th {\n",
       "        vertical-align: top;\n",
       "    }\n",
       "\n",
       "    .dataframe thead th {\n",
       "        text-align: right;\n",
       "    }\n",
       "</style>\n",
       "<table border=\"1\" class=\"dataframe\">\n",
       "  <thead>\n",
       "    <tr style=\"text-align: right;\">\n",
       "      <th></th>\n",
       "      <th>Date</th>\n",
       "      <th>1/1/1990</th>\n",
       "      <th>2/1/1990</th>\n",
       "      <th>3/1/1990</th>\n",
       "      <th>4/1/1990</th>\n",
       "      <th>5/1/1990</th>\n",
       "      <th>6/1/1990</th>\n",
       "      <th>7/1/1990</th>\n",
       "      <th>8/1/1990</th>\n",
       "      <th>9/1/1990</th>\n",
       "      <th>...</th>\n",
       "      <th>12/1/2020</th>\n",
       "      <th>1/1/2021</th>\n",
       "      <th>2/1/2021</th>\n",
       "      <th>3/1/2021</th>\n",
       "      <th>4/1/2021</th>\n",
       "      <th>5/1/2021</th>\n",
       "      <th>6/1/2021</th>\n",
       "      <th>7/1/2021</th>\n",
       "      <th>8/1/2021</th>\n",
       "      <th>9/1/2021</th>\n",
       "    </tr>\n",
       "  </thead>\n",
       "  <tbody>\n",
       "    <tr>\n",
       "      <th>0</th>\n",
       "      <td>Non-mortgage loans</td>\n",
       "      <td>121607</td>\n",
       "      <td>121404</td>\n",
       "      <td>122358</td>\n",
       "      <td>122922</td>\n",
       "      <td>123435</td>\n",
       "      <td>124132</td>\n",
       "      <td>124492</td>\n",
       "      <td>124806</td>\n",
       "      <td>125752</td>\n",
       "      <td>...</td>\n",
       "      <td>787490</td>\n",
       "      <td>780670</td>\n",
       "      <td>779984</td>\n",
       "      <td>779926</td>\n",
       "      <td>783466</td>\n",
       "      <td>787770</td>\n",
       "      <td>792582</td>\n",
       "      <td>793265</td>\n",
       "      <td>798152</td>\n",
       "      <td>802793</td>\n",
       "    </tr>\n",
       "    <tr>\n",
       "      <th>1</th>\n",
       "      <td>Chartered banks 1</td>\n",
       "      <td>77976</td>\n",
       "      <td>77819</td>\n",
       "      <td>78386</td>\n",
       "      <td>78566</td>\n",
       "      <td>78941</td>\n",
       "      <td>79564</td>\n",
       "      <td>80005</td>\n",
       "      <td>80526</td>\n",
       "      <td>81519</td>\n",
       "      <td>...</td>\n",
       "      <td>575885</td>\n",
       "      <td>571698</td>\n",
       "      <td>572927</td>\n",
       "      <td>575120</td>\n",
       "      <td>578333</td>\n",
       "      <td>581681</td>\n",
       "      <td>586632</td>\n",
       "      <td>587778</td>\n",
       "      <td>591617</td>\n",
       "      <td>595916</td>\n",
       "    </tr>\n",
       "    <tr>\n",
       "      <th>2</th>\n",
       "      <td>Personal loans 1 2</td>\n",
       "      <td>31781</td>\n",
       "      <td>31769</td>\n",
       "      <td>31878</td>\n",
       "      <td>32099</td>\n",
       "      <td>32316</td>\n",
       "      <td>32539</td>\n",
       "      <td>32687</td>\n",
       "      <td>32805</td>\n",
       "      <td>32854</td>\n",
       "      <td>...</td>\n",
       "      <td>113070</td>\n",
       "      <td>115030</td>\n",
       "      <td>115131</td>\n",
       "      <td>114723</td>\n",
       "      <td>115259</td>\n",
       "      <td>115462</td>\n",
       "      <td>116026</td>\n",
       "      <td>116245</td>\n",
       "      <td>116837</td>\n",
       "      <td>117381</td>\n",
       "    </tr>\n",
       "    <tr>\n",
       "      <th>3</th>\n",
       "      <td>Of which: Auto loans 1 2</td>\n",
       "      <td>0</td>\n",
       "      <td>0</td>\n",
       "      <td>0</td>\n",
       "      <td>0</td>\n",
       "      <td>0</td>\n",
       "      <td>0</td>\n",
       "      <td>0</td>\n",
       "      <td>0</td>\n",
       "      <td>0</td>\n",
       "      <td>...</td>\n",
       "      <td>90763</td>\n",
       "      <td>90156</td>\n",
       "      <td>89902</td>\n",
       "      <td>90276</td>\n",
       "      <td>90681</td>\n",
       "      <td>90911</td>\n",
       "      <td>91542</td>\n",
       "      <td>91917</td>\n",
       "      <td>92298</td>\n",
       "      <td>92252</td>\n",
       "    </tr>\n",
       "    <tr>\n",
       "      <th>4</th>\n",
       "      <td>Credit cards 1 2</td>\n",
       "      <td>9090</td>\n",
       "      <td>8768</td>\n",
       "      <td>8728</td>\n",
       "      <td>8883</td>\n",
       "      <td>9050</td>\n",
       "      <td>9232</td>\n",
       "      <td>9310</td>\n",
       "      <td>9516</td>\n",
       "      <td>9788</td>\n",
       "      <td>...</td>\n",
       "      <td>78388</td>\n",
       "      <td>73786</td>\n",
       "      <td>73374</td>\n",
       "      <td>74232</td>\n",
       "      <td>74249</td>\n",
       "      <td>75221</td>\n",
       "      <td>76422</td>\n",
       "      <td>77223</td>\n",
       "      <td>78335</td>\n",
       "      <td>79324</td>\n",
       "    </tr>\n",
       "  </tbody>\n",
       "</table>\n",
       "<p>5 rows × 382 columns</p>\n",
       "</div>"
      ],
      "text/plain": [
       "                       Date  1/1/1990  2/1/1990  3/1/1990  4/1/1990  5/1/1990  \\\n",
       "0        Non-mortgage loans    121607    121404    122358    122922    123435   \n",
       "1         Chartered banks 1     77976     77819     78386     78566     78941   \n",
       "2        Personal loans 1 2     31781     31769     31878     32099     32316   \n",
       "3  Of which: Auto loans 1 2         0         0         0         0         0   \n",
       "4          Credit cards 1 2      9090      8768      8728      8883      9050   \n",
       "\n",
       "   6/1/1990  7/1/1990  8/1/1990  9/1/1990  ...  12/1/2020  1/1/2021  2/1/2021  \\\n",
       "0    124132    124492    124806    125752  ...     787490    780670    779984   \n",
       "1     79564     80005     80526     81519  ...     575885    571698    572927   \n",
       "2     32539     32687     32805     32854  ...     113070    115030    115131   \n",
       "3         0         0         0         0  ...      90763     90156     89902   \n",
       "4      9232      9310      9516      9788  ...      78388     73786     73374   \n",
       "\n",
       "   3/1/2021  4/1/2021  5/1/2021  6/1/2021  7/1/2021  8/1/2021  9/1/2021  \n",
       "0    779926    783466    787770    792582    793265    798152    802793  \n",
       "1    575120    578333    581681    586632    587778    591617    595916  \n",
       "2    114723    115259    115462    116026    116245    116837    117381  \n",
       "3     90276     90681     90911     91542     91917     92298     92252  \n",
       "4     74232     74249     75221     76422     77223     78335     79324  \n",
       "\n",
       "[5 rows x 382 columns]"
      ]
     },
     "execution_count": 5,
     "metadata": {},
     "output_type": "execute_result"
    }
   ],
   "source": [
    "# Data ingestion - reading the CSV in from Statistics Canada and the Bank of Canada\n",
    "# Credit liabilities of households.csv\n",
    "# Residential mortgages 9+\n",
    "df_Residential_mortgages = pd.read_csv('../Resources/Datasets/Credit liabilities of households.csv')\n",
    "df_Residential_mortgages.head()"
   ]
  },
  {
   "cell_type": "code",
   "execution_count": 6,
   "id": "70e5b8d0-20a0-4756-b55d-89f41581793b",
   "metadata": {},
   "outputs": [
    {
     "data": {
      "text/html": [
       "<div>\n",
       "<style scoped>\n",
       "    .dataframe tbody tr th:only-of-type {\n",
       "        vertical-align: middle;\n",
       "    }\n",
       "\n",
       "    .dataframe tbody tr th {\n",
       "        vertical-align: top;\n",
       "    }\n",
       "\n",
       "    .dataframe thead th {\n",
       "        text-align: right;\n",
       "    }\n",
       "</style>\n",
       "<table border=\"1\" class=\"dataframe\">\n",
       "  <thead>\n",
       "    <tr style=\"text-align: right;\">\n",
       "      <th></th>\n",
       "      <th>0</th>\n",
       "      <th>1</th>\n",
       "      <th>2</th>\n",
       "      <th>3</th>\n",
       "      <th>4</th>\n",
       "      <th>5</th>\n",
       "      <th>6</th>\n",
       "      <th>7</th>\n",
       "      <th>8</th>\n",
       "      <th>9</th>\n",
       "      <th>...</th>\n",
       "      <th>34</th>\n",
       "      <th>35</th>\n",
       "      <th>36</th>\n",
       "      <th>37</th>\n",
       "      <th>38</th>\n",
       "      <th>39</th>\n",
       "      <th>40</th>\n",
       "      <th>41</th>\n",
       "      <th>42</th>\n",
       "      <th>43</th>\n",
       "    </tr>\n",
       "  </thead>\n",
       "  <tbody>\n",
       "    <tr>\n",
       "      <th>5/1/2021</th>\n",
       "      <td>787770</td>\n",
       "      <td>581681</td>\n",
       "      <td>115462</td>\n",
       "      <td>90911</td>\n",
       "      <td>75221</td>\n",
       "      <td>318851</td>\n",
       "      <td>62921</td>\n",
       "      <td>30930</td>\n",
       "      <td>41217</td>\n",
       "      <td>206089</td>\n",
       "      <td>...</td>\n",
       "      <td>1979730</td>\n",
       "      <td>1706049</td>\n",
       "      <td>1297499</td>\n",
       "      <td>408550</td>\n",
       "      <td>9831</td>\n",
       "      <td>2998</td>\n",
       "      <td>6833</td>\n",
       "      <td>263850</td>\n",
       "      <td>255930</td>\n",
       "      <td>7920</td>\n",
       "    </tr>\n",
       "    <tr>\n",
       "      <th>6/1/2021</th>\n",
       "      <td>792582</td>\n",
       "      <td>586632</td>\n",
       "      <td>116026</td>\n",
       "      <td>91542</td>\n",
       "      <td>76422</td>\n",
       "      <td>320569</td>\n",
       "      <td>62921</td>\n",
       "      <td>31755</td>\n",
       "      <td>41860</td>\n",
       "      <td>205950</td>\n",
       "      <td>...</td>\n",
       "      <td>2005633</td>\n",
       "      <td>1730211</td>\n",
       "      <td>1316993</td>\n",
       "      <td>413218</td>\n",
       "      <td>9930</td>\n",
       "      <td>3048</td>\n",
       "      <td>6882</td>\n",
       "      <td>265492</td>\n",
       "      <td>257648</td>\n",
       "      <td>7844</td>\n",
       "    </tr>\n",
       "    <tr>\n",
       "      <th>7/1/2021</th>\n",
       "      <td>793265</td>\n",
       "      <td>587778</td>\n",
       "      <td>116245</td>\n",
       "      <td>91917</td>\n",
       "      <td>77223</td>\n",
       "      <td>321720</td>\n",
       "      <td>62908</td>\n",
       "      <td>30647</td>\n",
       "      <td>41943</td>\n",
       "      <td>205487</td>\n",
       "      <td>...</td>\n",
       "      <td>2022115</td>\n",
       "      <td>1745650</td>\n",
       "      <td>1331064</td>\n",
       "      <td>414586</td>\n",
       "      <td>9866</td>\n",
       "      <td>2979</td>\n",
       "      <td>6887</td>\n",
       "      <td>266599</td>\n",
       "      <td>258812</td>\n",
       "      <td>7787</td>\n",
       "    </tr>\n",
       "    <tr>\n",
       "      <th>8/1/2021</th>\n",
       "      <td>798152</td>\n",
       "      <td>591617</td>\n",
       "      <td>116837</td>\n",
       "      <td>92298</td>\n",
       "      <td>78335</td>\n",
       "      <td>323665</td>\n",
       "      <td>63073</td>\n",
       "      <td>30564</td>\n",
       "      <td>42216</td>\n",
       "      <td>206535</td>\n",
       "      <td>...</td>\n",
       "      <td>2038954</td>\n",
       "      <td>1760664</td>\n",
       "      <td>1344247</td>\n",
       "      <td>416417</td>\n",
       "      <td>9848</td>\n",
       "      <td>2949</td>\n",
       "      <td>6899</td>\n",
       "      <td>268442</td>\n",
       "      <td>260592</td>\n",
       "      <td>7850</td>\n",
       "    </tr>\n",
       "    <tr>\n",
       "      <th>9/1/2021</th>\n",
       "      <td>802793</td>\n",
       "      <td>595916</td>\n",
       "      <td>117381</td>\n",
       "      <td>92252</td>\n",
       "      <td>79324</td>\n",
       "      <td>325793</td>\n",
       "      <td>63514</td>\n",
       "      <td>30895</td>\n",
       "      <td>42523</td>\n",
       "      <td>206877</td>\n",
       "      <td>...</td>\n",
       "      <td>2052272</td>\n",
       "      <td>1772201</td>\n",
       "      <td>1354213</td>\n",
       "      <td>417988</td>\n",
       "      <td>9883</td>\n",
       "      <td>2953</td>\n",
       "      <td>6930</td>\n",
       "      <td>270188</td>\n",
       "      <td>262279</td>\n",
       "      <td>7909</td>\n",
       "    </tr>\n",
       "  </tbody>\n",
       "</table>\n",
       "<p>5 rows × 44 columns</p>\n",
       "</div>"
      ],
      "text/plain": [
       "              0       1       2      3      4       5      6      7      8   \\\n",
       "5/1/2021  787770  581681  115462  90911  75221  318851  62921  30930  41217   \n",
       "6/1/2021  792582  586632  116026  91542  76422  320569  62921  31755  41860   \n",
       "7/1/2021  793265  587778  116245  91917  77223  321720  62908  30647  41943   \n",
       "8/1/2021  798152  591617  116837  92298  78335  323665  63073  30564  42216   \n",
       "9/1/2021  802793  595916  117381  92252  79324  325793  63514  30895  42523   \n",
       "\n",
       "              9   ...       34       35       36      37    38    39    40  \\\n",
       "5/1/2021  206089  ...  1979730  1706049  1297499  408550  9831  2998  6833   \n",
       "6/1/2021  205950  ...  2005633  1730211  1316993  413218  9930  3048  6882   \n",
       "7/1/2021  205487  ...  2022115  1745650  1331064  414586  9866  2979  6887   \n",
       "8/1/2021  206535  ...  2038954  1760664  1344247  416417  9848  2949  6899   \n",
       "9/1/2021  206877  ...  2052272  1772201  1354213  417988  9883  2953  6930   \n",
       "\n",
       "              41      42    43  \n",
       "5/1/2021  263850  255930  7920  \n",
       "6/1/2021  265492  257648  7844  \n",
       "7/1/2021  266599  258812  7787  \n",
       "8/1/2021  268442  260592  7850  \n",
       "9/1/2021  270188  262279  7909  \n",
       "\n",
       "[5 rows x 44 columns]"
      ]
     },
     "execution_count": 6,
     "metadata": {},
     "output_type": "execute_result"
    }
   ],
   "source": [
    "# Transpose \n",
    "res_mortgage_transp = df_Residential_mortgages.T\n",
    "res_mortgage_transp.tail()"
   ]
  },
  {
   "cell_type": "code",
   "execution_count": 7,
   "id": "e2f78273-f71e-47c4-9920-c226e0a190ad",
   "metadata": {},
   "outputs": [
    {
     "data": {
      "text/html": [
       "<div>\n",
       "<style scoped>\n",
       "    .dataframe tbody tr th:only-of-type {\n",
       "        vertical-align: middle;\n",
       "    }\n",
       "\n",
       "    .dataframe tbody tr th {\n",
       "        vertical-align: top;\n",
       "    }\n",
       "\n",
       "    .dataframe thead th {\n",
       "        text-align: right;\n",
       "    }\n",
       "</style>\n",
       "<table border=\"1\" class=\"dataframe\">\n",
       "  <thead>\n",
       "    <tr style=\"text-align: right;\">\n",
       "      <th></th>\n",
       "      <th>35</th>\n",
       "    </tr>\n",
       "  </thead>\n",
       "  <tbody>\n",
       "    <tr>\n",
       "      <th>5/1/2021</th>\n",
       "      <td>1706049</td>\n",
       "    </tr>\n",
       "    <tr>\n",
       "      <th>6/1/2021</th>\n",
       "      <td>1730211</td>\n",
       "    </tr>\n",
       "    <tr>\n",
       "      <th>7/1/2021</th>\n",
       "      <td>1745650</td>\n",
       "    </tr>\n",
       "    <tr>\n",
       "      <th>8/1/2021</th>\n",
       "      <td>1760664</td>\n",
       "    </tr>\n",
       "    <tr>\n",
       "      <th>9/1/2021</th>\n",
       "      <td>1772201</td>\n",
       "    </tr>\n",
       "  </tbody>\n",
       "</table>\n",
       "</div>"
      ],
      "text/plain": [
       "               35\n",
       "5/1/2021  1706049\n",
       "6/1/2021  1730211\n",
       "7/1/2021  1745650\n",
       "8/1/2021  1760664\n",
       "9/1/2021  1772201"
      ]
     },
     "execution_count": 7,
     "metadata": {},
     "output_type": "execute_result"
    }
   ],
   "source": [
    "# Remove unwanted columns\n",
    "res_mortgage_transp = res_mortgage_transp.truncate(before='35', after='35', axis=1)\n",
    "res_mortgage_transp.tail()"
   ]
  },
  {
   "cell_type": "code",
   "execution_count": 8,
   "id": "a23de5d1-3bb3-4381-8404-e312e366d1d7",
   "metadata": {},
   "outputs": [
    {
     "data": {
      "text/html": [
       "<div>\n",
       "<style scoped>\n",
       "    .dataframe tbody tr th:only-of-type {\n",
       "        vertical-align: middle;\n",
       "    }\n",
       "\n",
       "    .dataframe tbody tr th {\n",
       "        vertical-align: top;\n",
       "    }\n",
       "\n",
       "    .dataframe thead th {\n",
       "        text-align: right;\n",
       "    }\n",
       "</style>\n",
       "<table border=\"1\" class=\"dataframe\">\n",
       "  <thead>\n",
       "    <tr style=\"text-align: right;\">\n",
       "      <th></th>\n",
       "      <th>Date</th>\n",
       "      <th>Residential mortgages 14</th>\n",
       "    </tr>\n",
       "  </thead>\n",
       "  <tbody>\n",
       "    <tr>\n",
       "      <th>377</th>\n",
       "      <td>5/1/2021</td>\n",
       "      <td>1706049</td>\n",
       "    </tr>\n",
       "    <tr>\n",
       "      <th>378</th>\n",
       "      <td>6/1/2021</td>\n",
       "      <td>1730211</td>\n",
       "    </tr>\n",
       "    <tr>\n",
       "      <th>379</th>\n",
       "      <td>7/1/2021</td>\n",
       "      <td>1745650</td>\n",
       "    </tr>\n",
       "    <tr>\n",
       "      <th>380</th>\n",
       "      <td>8/1/2021</td>\n",
       "      <td>1760664</td>\n",
       "    </tr>\n",
       "    <tr>\n",
       "      <th>381</th>\n",
       "      <td>9/1/2021</td>\n",
       "      <td>1772201</td>\n",
       "    </tr>\n",
       "  </tbody>\n",
       "</table>\n",
       "</div>"
      ],
      "text/plain": [
       "0        Date Residential mortgages 14\n",
       "377  5/1/2021                  1706049\n",
       "378  6/1/2021                  1730211\n",
       "379  7/1/2021                  1745650\n",
       "380  8/1/2021                  1760664\n",
       "381  9/1/2021                  1772201"
      ]
     },
     "execution_count": 8,
     "metadata": {},
     "output_type": "execute_result"
    }
   ],
   "source": [
    "# Reset index and change headers\n",
    "res_mortgage_transp = res_mortgage_transp.reset_index(drop=False)\n",
    "new_header = res_mortgage_transp.iloc[0] #grab the first row for the header\n",
    "res_mortgage_transp = res_mortgage_transp[1:] #take the data less the header row\n",
    "res_mortgage_transp.columns = new_header #set the header row as the dataframe header\n",
    "res_mortgage_transp.tail()"
   ]
  },
  {
   "cell_type": "code",
   "execution_count": 9,
   "id": "226f51e6",
   "metadata": {},
   "outputs": [],
   "source": [
    "# Rename the columns\n",
    "res_mortgage_transp = res_mortgage_transp.rename(columns={'Residential mortgages 14': 'Residential Mortgages'})"
   ]
  },
  {
   "cell_type": "code",
   "execution_count": 10,
   "id": "e5d6930a-abb7-4422-8e7e-968592230e16",
   "metadata": {},
   "outputs": [
    {
     "data": {
      "text/plain": [
       "0\n",
       "Date                     object\n",
       "Residential Mortgages    object\n",
       "dtype: object"
      ]
     },
     "execution_count": 10,
     "metadata": {},
     "output_type": "execute_result"
    }
   ],
   "source": [
    "# Review data types\n",
    "res_mortgage_transp.dtypes"
   ]
  },
  {
   "cell_type": "code",
   "execution_count": 11,
   "id": "ddb1b3e9",
   "metadata": {},
   "outputs": [
    {
     "data": {
      "text/html": [
       "<div>\n",
       "<style scoped>\n",
       "    .dataframe tbody tr th:only-of-type {\n",
       "        vertical-align: middle;\n",
       "    }\n",
       "\n",
       "    .dataframe tbody tr th {\n",
       "        vertical-align: top;\n",
       "    }\n",
       "\n",
       "    .dataframe thead th {\n",
       "        text-align: right;\n",
       "    }\n",
       "</style>\n",
       "<table border=\"1\" class=\"dataframe\">\n",
       "  <thead>\n",
       "    <tr style=\"text-align: right;\">\n",
       "      <th></th>\n",
       "      <th>Date</th>\n",
       "      <th>Residential Mortgages</th>\n",
       "    </tr>\n",
       "  </thead>\n",
       "  <tbody>\n",
       "    <tr>\n",
       "      <th>377</th>\n",
       "      <td>5/1/2021</td>\n",
       "      <td>1706049</td>\n",
       "    </tr>\n",
       "    <tr>\n",
       "      <th>378</th>\n",
       "      <td>6/1/2021</td>\n",
       "      <td>1730211</td>\n",
       "    </tr>\n",
       "    <tr>\n",
       "      <th>379</th>\n",
       "      <td>7/1/2021</td>\n",
       "      <td>1745650</td>\n",
       "    </tr>\n",
       "    <tr>\n",
       "      <th>380</th>\n",
       "      <td>8/1/2021</td>\n",
       "      <td>1760664</td>\n",
       "    </tr>\n",
       "    <tr>\n",
       "      <th>381</th>\n",
       "      <td>9/1/2021</td>\n",
       "      <td>1772201</td>\n",
       "    </tr>\n",
       "  </tbody>\n",
       "</table>\n",
       "</div>"
      ],
      "text/plain": [
       "0        Date Residential Mortgages\n",
       "377  5/1/2021               1706049\n",
       "378  6/1/2021               1730211\n",
       "379  7/1/2021               1745650\n",
       "380  8/1/2021               1760664\n",
       "381  9/1/2021               1772201"
      ]
     },
     "execution_count": 11,
     "metadata": {},
     "output_type": "execute_result"
    }
   ],
   "source": [
    "res_mortgage_transp.tail()"
   ]
  },
  {
   "cell_type": "code",
   "execution_count": 12,
   "id": "69c1b8bc-5ec1-4425-9f25-c7244102ff6b",
   "metadata": {},
   "outputs": [
    {
     "name": "stdout",
     "output_type": "stream",
     "text": [
      "<class 'pandas.core.frame.DataFrame'>\n",
      "RangeIndex: 381 entries, 1 to 381\n",
      "Data columns (total 2 columns):\n",
      " #   Column                 Non-Null Count  Dtype         \n",
      "---  ------                 --------------  -----         \n",
      " 0   Date                   381 non-null    datetime64[ns]\n",
      " 1   Residential Mortgages  381 non-null    float64       \n",
      "dtypes: datetime64[ns](1), float64(1)\n",
      "memory usage: 6.1 KB\n"
     ]
    }
   ],
   "source": [
    "# Convert data types to required format\n",
    "res_mortgage_transp['Date'] = res_mortgage_transp['Date'].astype('datetime64[ns]')\n",
    "res_mortgage_transp['Residential Mortgages'] = res_mortgage_transp['Residential Mortgages'].astype(float)\n",
    "res_mortgage_transp.info()"
   ]
  },
  {
   "cell_type": "code",
   "execution_count": 13,
   "id": "75bdd127",
   "metadata": {},
   "outputs": [
    {
     "data": {
      "text/html": [
       "<div>\n",
       "<style scoped>\n",
       "    .dataframe tbody tr th:only-of-type {\n",
       "        vertical-align: middle;\n",
       "    }\n",
       "\n",
       "    .dataframe tbody tr th {\n",
       "        vertical-align: top;\n",
       "    }\n",
       "\n",
       "    .dataframe thead th {\n",
       "        text-align: right;\n",
       "    }\n",
       "</style>\n",
       "<table border=\"1\" class=\"dataframe\">\n",
       "  <thead>\n",
       "    <tr style=\"text-align: right;\">\n",
       "      <th></th>\n",
       "      <th>Date</th>\n",
       "      <th>Residential Mortgages</th>\n",
       "    </tr>\n",
       "  </thead>\n",
       "  <tbody>\n",
       "    <tr>\n",
       "      <th>377</th>\n",
       "      <td>2021-05-01</td>\n",
       "      <td>1706049.0</td>\n",
       "    </tr>\n",
       "    <tr>\n",
       "      <th>378</th>\n",
       "      <td>2021-06-01</td>\n",
       "      <td>1730211.0</td>\n",
       "    </tr>\n",
       "    <tr>\n",
       "      <th>379</th>\n",
       "      <td>2021-07-01</td>\n",
       "      <td>1745650.0</td>\n",
       "    </tr>\n",
       "    <tr>\n",
       "      <th>380</th>\n",
       "      <td>2021-08-01</td>\n",
       "      <td>1760664.0</td>\n",
       "    </tr>\n",
       "    <tr>\n",
       "      <th>381</th>\n",
       "      <td>2021-09-01</td>\n",
       "      <td>1772201.0</td>\n",
       "    </tr>\n",
       "  </tbody>\n",
       "</table>\n",
       "</div>"
      ],
      "text/plain": [
       "0         Date  Residential Mortgages\n",
       "377 2021-05-01              1706049.0\n",
       "378 2021-06-01              1730211.0\n",
       "379 2021-07-01              1745650.0\n",
       "380 2021-08-01              1760664.0\n",
       "381 2021-09-01              1772201.0"
      ]
     },
     "execution_count": 13,
     "metadata": {},
     "output_type": "execute_result"
    }
   ],
   "source": [
    "res_mortgage_transp.tail()"
   ]
  },
  {
   "cell_type": "code",
   "execution_count": 14,
   "id": "ced03493-d1d2-4b90-980b-85fe6fad1785",
   "metadata": {},
   "outputs": [
    {
     "data": {
      "text/html": [
       "<div>\n",
       "<style scoped>\n",
       "    .dataframe tbody tr th:only-of-type {\n",
       "        vertical-align: middle;\n",
       "    }\n",
       "\n",
       "    .dataframe tbody tr th {\n",
       "        vertical-align: top;\n",
       "    }\n",
       "\n",
       "    .dataframe thead th {\n",
       "        text-align: right;\n",
       "    }\n",
       "</style>\n",
       "<table border=\"1\" class=\"dataframe\">\n",
       "  <thead>\n",
       "    <tr style=\"text-align: right;\">\n",
       "      <th></th>\n",
       "      <th>Residential Mortgages</th>\n",
       "    </tr>\n",
       "    <tr>\n",
       "      <th>Date</th>\n",
       "      <th></th>\n",
       "    </tr>\n",
       "  </thead>\n",
       "  <tbody>\n",
       "    <tr>\n",
       "      <th>2021-05-01</th>\n",
       "      <td>1706049.0</td>\n",
       "    </tr>\n",
       "    <tr>\n",
       "      <th>2021-06-01</th>\n",
       "      <td>1730211.0</td>\n",
       "    </tr>\n",
       "    <tr>\n",
       "      <th>2021-07-01</th>\n",
       "      <td>1745650.0</td>\n",
       "    </tr>\n",
       "    <tr>\n",
       "      <th>2021-08-01</th>\n",
       "      <td>1760664.0</td>\n",
       "    </tr>\n",
       "    <tr>\n",
       "      <th>2021-09-01</th>\n",
       "      <td>1772201.0</td>\n",
       "    </tr>\n",
       "  </tbody>\n",
       "</table>\n",
       "</div>"
      ],
      "text/plain": [
       "0           Residential Mortgages\n",
       "Date                             \n",
       "2021-05-01              1706049.0\n",
       "2021-06-01              1730211.0\n",
       "2021-07-01              1745650.0\n",
       "2021-08-01              1760664.0\n",
       "2021-09-01              1772201.0"
      ]
     },
     "execution_count": 14,
     "metadata": {},
     "output_type": "execute_result"
    }
   ],
   "source": [
    "# Convert monthly data to quarterly \n",
    "res_mortgage_transp.Date = pd.to_datetime(res_mortgage_transp.Date)\n",
    "\n",
    "#setting the index to the Date column \n",
    "res_mortgage_transp.set_index('Date', inplace=True)\n",
    "res_mortgage_transp.tail()\n"
   ]
  },
  {
   "cell_type": "code",
   "execution_count": 15,
   "id": "945193c2",
   "metadata": {},
   "outputs": [],
   "source": [
    "#using resample to take Quarterly data \n",
    "res_mortgage_cleaned = res_mortgage_transp.resample('1Q').mean()"
   ]
  },
  {
   "cell_type": "code",
   "execution_count": 16,
   "id": "948924a6",
   "metadata": {},
   "outputs": [
    {
     "data": {
      "text/html": [
       "<div>\n",
       "<style scoped>\n",
       "    .dataframe tbody tr th:only-of-type {\n",
       "        vertical-align: middle;\n",
       "    }\n",
       "\n",
       "    .dataframe tbody tr th {\n",
       "        vertical-align: top;\n",
       "    }\n",
       "\n",
       "    .dataframe thead th {\n",
       "        text-align: right;\n",
       "    }\n",
       "</style>\n",
       "<table border=\"1\" class=\"dataframe\">\n",
       "  <thead>\n",
       "    <tr style=\"text-align: right;\">\n",
       "      <th></th>\n",
       "      <th>Residential Mortgages</th>\n",
       "    </tr>\n",
       "    <tr>\n",
       "      <th>Date</th>\n",
       "      <th></th>\n",
       "    </tr>\n",
       "  </thead>\n",
       "  <tbody>\n",
       "    <tr>\n",
       "      <th>2020-09-30</th>\n",
       "      <td>1.604927e+06</td>\n",
       "    </tr>\n",
       "    <tr>\n",
       "      <th>2020-12-31</th>\n",
       "      <td>1.639785e+06</td>\n",
       "    </tr>\n",
       "    <tr>\n",
       "      <th>2021-03-31</th>\n",
       "      <td>1.661492e+06</td>\n",
       "    </tr>\n",
       "    <tr>\n",
       "      <th>2021-06-30</th>\n",
       "      <td>1.708387e+06</td>\n",
       "    </tr>\n",
       "    <tr>\n",
       "      <th>2021-09-30</th>\n",
       "      <td>1.759505e+06</td>\n",
       "    </tr>\n",
       "  </tbody>\n",
       "</table>\n",
       "</div>"
      ],
      "text/plain": [
       "0           Residential Mortgages\n",
       "Date                             \n",
       "2020-09-30           1.604927e+06\n",
       "2020-12-31           1.639785e+06\n",
       "2021-03-31           1.661492e+06\n",
       "2021-06-30           1.708387e+06\n",
       "2021-09-30           1.759505e+06"
      ]
     },
     "execution_count": 16,
     "metadata": {},
     "output_type": "execute_result"
    }
   ],
   "source": [
    "# Combined dataframe = 1 + 2 + 3 \n",
    "res_mortgage_cleaned.tail()"
   ]
  },
  {
   "cell_type": "code",
   "execution_count": 17,
   "id": "327ee83b-364a-453c-a750-f29c302cf40b",
   "metadata": {},
   "outputs": [
    {
     "data": {
      "text/html": [
       "<div>\n",
       "<style scoped>\n",
       "    .dataframe tbody tr th:only-of-type {\n",
       "        vertical-align: middle;\n",
       "    }\n",
       "\n",
       "    .dataframe tbody tr th {\n",
       "        vertical-align: top;\n",
       "    }\n",
       "\n",
       "    .dataframe thead th {\n",
       "        text-align: right;\n",
       "    }\n",
       "</style>\n",
       "<table border=\"1\" class=\"dataframe\">\n",
       "  <thead>\n",
       "    <tr style=\"text-align: right;\">\n",
       "      <th></th>\n",
       "      <th>Residential Mortgages</th>\n",
       "    </tr>\n",
       "    <tr>\n",
       "      <th>Date</th>\n",
       "      <th></th>\n",
       "    </tr>\n",
       "  </thead>\n",
       "  <tbody>\n",
       "    <tr>\n",
       "      <th>2020-09-30</th>\n",
       "      <td>1604927.33</td>\n",
       "    </tr>\n",
       "    <tr>\n",
       "      <th>2020-12-31</th>\n",
       "      <td>1639785.00</td>\n",
       "    </tr>\n",
       "    <tr>\n",
       "      <th>2021-03-31</th>\n",
       "      <td>1661491.67</td>\n",
       "    </tr>\n",
       "    <tr>\n",
       "      <th>2021-06-30</th>\n",
       "      <td>1708387.33</td>\n",
       "    </tr>\n",
       "    <tr>\n",
       "      <th>2021-09-30</th>\n",
       "      <td>1759505.00</td>\n",
       "    </tr>\n",
       "  </tbody>\n",
       "</table>\n",
       "</div>"
      ],
      "text/plain": [
       "0           Residential Mortgages\n",
       "Date                             \n",
       "2020-09-30             1604927.33\n",
       "2020-12-31             1639785.00\n",
       "2021-03-31             1661491.67\n",
       "2021-06-30             1708387.33\n",
       "2021-09-30             1759505.00"
      ]
     },
     "execution_count": 17,
     "metadata": {},
     "output_type": "execute_result"
    }
   ],
   "source": [
    "res_mortgage_cleaned['Residential Mortgages']=res_mortgage_cleaned['Residential Mortgages'].apply(lambda x:round(x,2))\n",
    "res_mortgage_cleaned.tail()"
   ]
  },
  {
   "cell_type": "code",
   "execution_count": 18,
   "id": "85f95c92",
   "metadata": {},
   "outputs": [],
   "source": [
    "#take the csv in \n",
    "#extract this column name: Credit liabilities of households 1 2 3\n",
    "#extract this column name: Residential mortgages 9 \n",
    "#flip the row into a column (transpose method)\n",
    "#since the dates won't match, we need to add null values"
   ]
  },
  {
   "cell_type": "code",
   "execution_count": 19,
   "id": "e4c3eafa",
   "metadata": {},
   "outputs": [
    {
     "data": {
      "text/html": [
       "<div>\n",
       "<style scoped>\n",
       "    .dataframe tbody tr th:only-of-type {\n",
       "        vertical-align: middle;\n",
       "    }\n",
       "\n",
       "    .dataframe tbody tr th {\n",
       "        vertical-align: top;\n",
       "    }\n",
       "\n",
       "    .dataframe thead th {\n",
       "        text-align: right;\n",
       "    }\n",
       "</style>\n",
       "<table border=\"1\" class=\"dataframe\">\n",
       "  <thead>\n",
       "    <tr style=\"text-align: right;\">\n",
       "      <th></th>\n",
       "      <th>Date</th>\n",
       "      <th>New housing price index</th>\n",
       "      <th>Housing Affordability Index</th>\n",
       "    </tr>\n",
       "  </thead>\n",
       "  <tbody>\n",
       "    <tr>\n",
       "      <th>0</th>\n",
       "      <td>1980-09-1</td>\n",
       "      <td>NaN</td>\n",
       "      <td>0.420</td>\n",
       "    </tr>\n",
       "    <tr>\n",
       "      <th>1</th>\n",
       "      <td>1980-12-1</td>\n",
       "      <td>NaN</td>\n",
       "      <td>0.461</td>\n",
       "    </tr>\n",
       "    <tr>\n",
       "      <th>2</th>\n",
       "      <td>1981-03-1</td>\n",
       "      <td>NaN</td>\n",
       "      <td>0.482</td>\n",
       "    </tr>\n",
       "    <tr>\n",
       "      <th>3</th>\n",
       "      <td>1981-06-1</td>\n",
       "      <td>NaN</td>\n",
       "      <td>0.534</td>\n",
       "    </tr>\n",
       "    <tr>\n",
       "      <th>4</th>\n",
       "      <td>1981-09-1</td>\n",
       "      <td>NaN</td>\n",
       "      <td>0.626</td>\n",
       "    </tr>\n",
       "  </tbody>\n",
       "</table>\n",
       "</div>"
      ],
      "text/plain": [
       "        Date  New housing price index  Housing Affordability Index\n",
       "0  1980-09-1                      NaN                        0.420\n",
       "1  1980-12-1                      NaN                        0.461\n",
       "2  1981-03-1                      NaN                        0.482\n",
       "3  1981-06-1                      NaN                        0.534\n",
       "4  1981-09-1                      NaN                        0.626"
      ]
     },
     "execution_count": 19,
     "metadata": {},
     "output_type": "execute_result"
    }
   ],
   "source": [
    "# House afforability index \n",
    "df_House_afford_index  = pd.read_csv('../Resources/Datasets/AffordabilityIndex date.csv')\n",
    "df_House_afford_index.head()"
   ]
  },
  {
   "cell_type": "code",
   "execution_count": 20,
   "id": "32be893a",
   "metadata": {},
   "outputs": [
    {
     "data": {
      "text/html": [
       "<div>\n",
       "<style scoped>\n",
       "    .dataframe tbody tr th:only-of-type {\n",
       "        vertical-align: middle;\n",
       "    }\n",
       "\n",
       "    .dataframe tbody tr th {\n",
       "        vertical-align: top;\n",
       "    }\n",
       "\n",
       "    .dataframe thead th {\n",
       "        text-align: right;\n",
       "    }\n",
       "</style>\n",
       "<table border=\"1\" class=\"dataframe\">\n",
       "  <thead>\n",
       "    <tr style=\"text-align: right;\">\n",
       "      <th></th>\n",
       "      <th>Date</th>\n",
       "      <th>Housing Affordability Index</th>\n",
       "    </tr>\n",
       "  </thead>\n",
       "  <tbody>\n",
       "    <tr>\n",
       "      <th>160</th>\n",
       "      <td>2020-09-1</td>\n",
       "      <td>0.315</td>\n",
       "    </tr>\n",
       "    <tr>\n",
       "      <th>161</th>\n",
       "      <td>2020-12-1</td>\n",
       "      <td>0.337</td>\n",
       "    </tr>\n",
       "    <tr>\n",
       "      <th>162</th>\n",
       "      <td>2021-03-1</td>\n",
       "      <td>0.347</td>\n",
       "    </tr>\n",
       "    <tr>\n",
       "      <th>163</th>\n",
       "      <td>2021-06-1</td>\n",
       "      <td>0.363</td>\n",
       "    </tr>\n",
       "    <tr>\n",
       "      <th>164</th>\n",
       "      <td>2021-09-1</td>\n",
       "      <td>NaN</td>\n",
       "    </tr>\n",
       "  </tbody>\n",
       "</table>\n",
       "</div>"
      ],
      "text/plain": [
       "          Date  Housing Affordability Index\n",
       "160  2020-09-1                        0.315\n",
       "161  2020-12-1                        0.337\n",
       "162  2021-03-1                        0.347\n",
       "163  2021-06-1                        0.363\n",
       "164  2021-09-1                          NaN"
      ]
     },
     "execution_count": 20,
     "metadata": {},
     "output_type": "execute_result"
    }
   ],
   "source": [
    "#here we will be doing some cleaning from this dataset and taking only the Housing Affordability Index\n",
    "df_House_afford_index = df_House_afford_index.drop(columns=['New housing price index'])\n",
    "df_House_afford_index.tail()"
   ]
  },
  {
   "cell_type": "code",
   "execution_count": 21,
   "id": "91eb06a8",
   "metadata": {},
   "outputs": [
    {
     "data": {
      "text/html": [
       "<div>\n",
       "<style scoped>\n",
       "    .dataframe tbody tr th:only-of-type {\n",
       "        vertical-align: middle;\n",
       "    }\n",
       "\n",
       "    .dataframe tbody tr th {\n",
       "        vertical-align: top;\n",
       "    }\n",
       "\n",
       "    .dataframe thead th {\n",
       "        text-align: right;\n",
       "    }\n",
       "</style>\n",
       "<table border=\"1\" class=\"dataframe\">\n",
       "  <thead>\n",
       "    <tr style=\"text-align: right;\">\n",
       "      <th></th>\n",
       "      <th>Date</th>\n",
       "      <th>Housing Affordability Index</th>\n",
       "    </tr>\n",
       "  </thead>\n",
       "  <tbody>\n",
       "    <tr>\n",
       "      <th>160</th>\n",
       "      <td>2020-09-1</td>\n",
       "      <td>0.315</td>\n",
       "    </tr>\n",
       "    <tr>\n",
       "      <th>161</th>\n",
       "      <td>2020-12-1</td>\n",
       "      <td>0.337</td>\n",
       "    </tr>\n",
       "    <tr>\n",
       "      <th>162</th>\n",
       "      <td>2021-03-1</td>\n",
       "      <td>0.347</td>\n",
       "    </tr>\n",
       "    <tr>\n",
       "      <th>163</th>\n",
       "      <td>2021-06-1</td>\n",
       "      <td>0.363</td>\n",
       "    </tr>\n",
       "    <tr>\n",
       "      <th>164</th>\n",
       "      <td>2021-09-1</td>\n",
       "      <td>NaN</td>\n",
       "    </tr>\n",
       "  </tbody>\n",
       "</table>\n",
       "</div>"
      ],
      "text/plain": [
       "          Date  Housing Affordability Index\n",
       "160  2020-09-1                        0.315\n",
       "161  2020-12-1                        0.337\n",
       "162  2021-03-1                        0.347\n",
       "163  2021-06-1                        0.363\n",
       "164  2021-09-1                          NaN"
      ]
     },
     "execution_count": 21,
     "metadata": {},
     "output_type": "execute_result"
    }
   ],
   "source": [
    "df_House_afford_index.tail()"
   ]
  },
  {
   "cell_type": "code",
   "execution_count": 22,
   "id": "54206bc0",
   "metadata": {},
   "outputs": [
    {
     "data": {
      "text/plain": [
       "Date                            object\n",
       "Housing Affordability Index    float64\n",
       "dtype: object"
      ]
     },
     "execution_count": 22,
     "metadata": {},
     "output_type": "execute_result"
    }
   ],
   "source": [
    "# Review data types\n",
    "df_House_afford_index.dtypes"
   ]
  },
  {
   "cell_type": "code",
   "execution_count": 23,
   "id": "18754367",
   "metadata": {},
   "outputs": [
    {
     "data": {
      "text/plain": [
       "Date                           datetime64[ns]\n",
       "Housing Affordability Index           float64\n",
       "dtype: object"
      ]
     },
     "execution_count": 23,
     "metadata": {},
     "output_type": "execute_result"
    }
   ],
   "source": [
    "df_House_afford_index['Date'] = df_House_afford_index['Date'].astype('datetime64[ns]')\n",
    "df_House_afford_index.dtypes\n"
   ]
  },
  {
   "cell_type": "code",
   "execution_count": 24,
   "id": "011959cd",
   "metadata": {},
   "outputs": [],
   "source": [
    "df_House_afford_index.set_index('Date', inplace=True)\n",
    "df_House_afford_index_cleaned = df_House_afford_index.resample('1Q').last()"
   ]
  },
  {
   "cell_type": "code",
   "execution_count": 25,
   "id": "f98514ad",
   "metadata": {},
   "outputs": [
    {
     "data": {
      "text/html": [
       "<div>\n",
       "<style scoped>\n",
       "    .dataframe tbody tr th:only-of-type {\n",
       "        vertical-align: middle;\n",
       "    }\n",
       "\n",
       "    .dataframe tbody tr th {\n",
       "        vertical-align: top;\n",
       "    }\n",
       "\n",
       "    .dataframe thead th {\n",
       "        text-align: right;\n",
       "    }\n",
       "</style>\n",
       "<table border=\"1\" class=\"dataframe\">\n",
       "  <thead>\n",
       "    <tr style=\"text-align: right;\">\n",
       "      <th></th>\n",
       "      <th>Housing Affordability Index</th>\n",
       "    </tr>\n",
       "    <tr>\n",
       "      <th>Date</th>\n",
       "      <th></th>\n",
       "    </tr>\n",
       "  </thead>\n",
       "  <tbody>\n",
       "    <tr>\n",
       "      <th>1980-09-30</th>\n",
       "      <td>0.420</td>\n",
       "    </tr>\n",
       "    <tr>\n",
       "      <th>1980-12-31</th>\n",
       "      <td>0.461</td>\n",
       "    </tr>\n",
       "    <tr>\n",
       "      <th>1981-03-31</th>\n",
       "      <td>0.482</td>\n",
       "    </tr>\n",
       "    <tr>\n",
       "      <th>1981-06-30</th>\n",
       "      <td>0.534</td>\n",
       "    </tr>\n",
       "    <tr>\n",
       "      <th>1981-09-30</th>\n",
       "      <td>0.626</td>\n",
       "    </tr>\n",
       "  </tbody>\n",
       "</table>\n",
       "</div>"
      ],
      "text/plain": [
       "            Housing Affordability Index\n",
       "Date                                   \n",
       "1980-09-30                        0.420\n",
       "1980-12-31                        0.461\n",
       "1981-03-31                        0.482\n",
       "1981-06-30                        0.534\n",
       "1981-09-30                        0.626"
      ]
     },
     "execution_count": 25,
     "metadata": {},
     "output_type": "execute_result"
    }
   ],
   "source": [
    "df_House_afford_index_cleaned.head()"
   ]
  },
  {
   "cell_type": "code",
   "execution_count": 26,
   "id": "f981c212",
   "metadata": {},
   "outputs": [
    {
     "data": {
      "text/plain": [
       "0\n",
       "Residential Mortgages    0\n",
       "dtype: int64"
      ]
     },
     "execution_count": 26,
     "metadata": {},
     "output_type": "execute_result"
    }
   ],
   "source": [
    "#check null values \n",
    "res_mortgage_cleaned.isnull().sum()\n",
    "#drop null values \n",
    "\n",
    "\n"
   ]
  },
  {
   "cell_type": "code",
   "execution_count": 27,
   "id": "758b9abb",
   "metadata": {},
   "outputs": [
    {
     "data": {
      "text/plain": [
       "Housing Affordability Index    0\n",
       "dtype: int64"
      ]
     },
     "execution_count": 27,
     "metadata": {},
     "output_type": "execute_result"
    }
   ],
   "source": [
    "#check again for null values \n",
    "df_House_afford_index_cleaned.isnull().sum()\n",
    "\n",
    "#removing null values \n",
    "df_House_afford_index_cleaned = df_House_afford_index_cleaned.dropna().copy()\n",
    "\n",
    "#check again for null values \n",
    "df_House_afford_index_cleaned.isnull().sum()"
   ]
  },
  {
   "cell_type": "code",
   "execution_count": 28,
   "id": "aecefced",
   "metadata": {},
   "outputs": [
    {
     "data": {
      "text/html": [
       "<div>\n",
       "<style scoped>\n",
       "    .dataframe tbody tr th:only-of-type {\n",
       "        vertical-align: middle;\n",
       "    }\n",
       "\n",
       "    .dataframe tbody tr th {\n",
       "        vertical-align: top;\n",
       "    }\n",
       "\n",
       "    .dataframe thead th {\n",
       "        text-align: right;\n",
       "    }\n",
       "</style>\n",
       "<table border=\"1\" class=\"dataframe\">\n",
       "  <thead>\n",
       "    <tr style=\"text-align: right;\">\n",
       "      <th></th>\n",
       "      <th>Housing Affordability Index</th>\n",
       "    </tr>\n",
       "    <tr>\n",
       "      <th>Date</th>\n",
       "      <th></th>\n",
       "    </tr>\n",
       "  </thead>\n",
       "  <tbody>\n",
       "    <tr>\n",
       "      <th>2020-06-30</th>\n",
       "      <td>0.300</td>\n",
       "    </tr>\n",
       "    <tr>\n",
       "      <th>2020-09-30</th>\n",
       "      <td>0.315</td>\n",
       "    </tr>\n",
       "    <tr>\n",
       "      <th>2020-12-31</th>\n",
       "      <td>0.337</td>\n",
       "    </tr>\n",
       "    <tr>\n",
       "      <th>2021-03-31</th>\n",
       "      <td>0.347</td>\n",
       "    </tr>\n",
       "    <tr>\n",
       "      <th>2021-06-30</th>\n",
       "      <td>0.363</td>\n",
       "    </tr>\n",
       "  </tbody>\n",
       "</table>\n",
       "</div>"
      ],
      "text/plain": [
       "            Housing Affordability Index\n",
       "Date                                   \n",
       "2020-06-30                        0.300\n",
       "2020-09-30                        0.315\n",
       "2020-12-31                        0.337\n",
       "2021-03-31                        0.347\n",
       "2021-06-30                        0.363"
      ]
     },
     "execution_count": 28,
     "metadata": {},
     "output_type": "execute_result"
    }
   ],
   "source": [
    "df_House_afford_index_cleaned.tail()"
   ]
  },
  {
   "cell_type": "code",
   "execution_count": 29,
   "id": "f5ae0d46",
   "metadata": {},
   "outputs": [
    {
     "data": {
      "text/plain": [
       "5-year Conventional mortgage    31\n",
       "dtype: int64"
      ]
     },
     "execution_count": 29,
     "metadata": {},
     "output_type": "execute_result"
    }
   ],
   "source": [
    "#check again for null values \n",
    "df_chartered_bank_i_cleaned.isnull().sum()\n",
    "\n"
   ]
  },
  {
   "cell_type": "code",
   "execution_count": 30,
   "id": "c7210f4f",
   "metadata": {},
   "outputs": [
    {
     "data": {
      "text/plain": [
       "5-year Conventional mortgage    0\n",
       "dtype: int64"
      ]
     },
     "execution_count": 30,
     "metadata": {},
     "output_type": "execute_result"
    }
   ],
   "source": [
    "#removing null values \n",
    "df_chartered_bank_i_cleaned = df_chartered_bank_i_cleaned.dropna().copy()\n",
    "\n",
    "#check again for null values \n",
    "df_chartered_bank_i_cleaned.isnull().sum()"
   ]
  },
  {
   "cell_type": "code",
   "execution_count": 31,
   "id": "206949ab",
   "metadata": {},
   "outputs": [
    {
     "name": "stdout",
     "output_type": "stream",
     "text": [
      "            5-year Conventional mortgage\n",
      "date                                    \n",
      "1975-03-31                     11.250000\n",
      "1975-06-30                     10.807692\n",
      "1975-09-30                     11.403846\n",
      "1975-12-31                     12.000000\n",
      "1976-03-31                     11.846154\n",
      "            5-year Conventional mortgage\n",
      "date                                    \n",
      "2020-12-31                          4.79\n",
      "2021-03-31                          4.79\n",
      "2021-06-30                          4.79\n",
      "2021-09-30                          4.79\n",
      "2021-12-31                          4.79\n"
     ]
    }
   ],
   "source": [
    "print(df_chartered_bank_i_cleaned.head())\n",
    "print(df_chartered_bank_i_cleaned.tail())"
   ]
  },
  {
   "cell_type": "code",
   "execution_count": 32,
   "id": "ebaa7adf",
   "metadata": {},
   "outputs": [
    {
     "name": "stdout",
     "output_type": "stream",
     "text": [
      "            5-year Conventional mortgage\n",
      "date                                    \n",
      "1990-03-31                     12.423077\n",
      "1990-06-30                     14.096154\n",
      "1990-09-30                     13.769231\n",
      "1990-12-31                     12.980769\n",
      "1991-03-31                     11.865385\n",
      "            5-year Conventional mortgage\n",
      "date                                    \n",
      "2020-06-30                      4.993846\n",
      "2020-09-30                      4.854286\n",
      "2020-12-31                      4.790000\n",
      "2021-03-31                      4.790000\n",
      "2021-06-30                      4.790000\n"
     ]
    }
   ],
   "source": [
    "#slice only the dates from 1990-03-31 TO 2021-06-30\n",
    "\n",
    "df_chartered_bank_i_cleaned = df_chartered_bank_i_cleaned['1990-03-31' :'2021-06-30']\n",
    "print(df_chartered_bank_i_cleaned.head())\n",
    "print(df_chartered_bank_i_cleaned.tail())"
   ]
  },
  {
   "cell_type": "code",
   "execution_count": 33,
   "id": "20d0c474",
   "metadata": {},
   "outputs": [
    {
     "name": "stdout",
     "output_type": "stream",
     "text": [
      "            Housing Affordability Index\n",
      "Date                                   \n",
      "1990-03-31                        0.479\n",
      "1990-06-30                        0.527\n",
      "1990-09-30                        0.494\n",
      "1990-12-31                        0.467\n",
      "1991-03-31                        0.434\n",
      "            Housing Affordability Index\n",
      "Date                                   \n",
      "2020-06-30                        0.300\n",
      "2020-09-30                        0.315\n",
      "2020-12-31                        0.337\n",
      "2021-03-31                        0.347\n",
      "2021-06-30                        0.363\n"
     ]
    }
   ],
   "source": [
    "# for Housing Affordability Index\n",
    "#slice only the dates from 1990-03-31 TO 2021-06-30\n",
    "\n",
    "df_House_afford_index_cleaned = df_House_afford_index_cleaned['1990-03-31' :'2021-06-30']\n",
    "print(df_House_afford_index_cleaned.head())\n",
    "print(df_House_afford_index_cleaned.tail())\n",
    "\n"
   ]
  },
  {
   "cell_type": "code",
   "execution_count": 34,
   "id": "77c825a3",
   "metadata": {},
   "outputs": [
    {
     "name": "stdout",
     "output_type": "stream",
     "text": [
      "0           Residential Mortgages\n",
      "Date                             \n",
      "1990-03-31              229940.67\n",
      "1990-06-30              236727.00\n",
      "1990-09-30              242165.67\n",
      "1990-12-31              246922.00\n",
      "1991-03-31              250729.33\n",
      "0           Residential Mortgages\n",
      "Date                             \n",
      "2020-06-30             1575288.33\n",
      "2020-09-30             1604927.33\n",
      "2020-12-31             1639785.00\n",
      "2021-03-31             1661491.67\n",
      "2021-06-30             1708387.33\n"
     ]
    }
   ],
   "source": [
    "# for Residential Mortgages\n",
    "#we slice only the dates from 1990-03-31 TO 2021-06-30\n",
    "\n",
    "res_mortgage_cleaned = res_mortgage_cleaned['1990-03-31' :'2021-06-30']\n",
    "print(res_mortgage_cleaned.head())\n",
    "print(res_mortgage_cleaned.tail())\n",
    "\n"
   ]
  },
  {
   "cell_type": "code",
   "execution_count": 35,
   "id": "49c8129a",
   "metadata": {},
   "outputs": [
    {
     "data": {
      "text/html": [
       "<div>\n",
       "<style scoped>\n",
       "    .dataframe tbody tr th:only-of-type {\n",
       "        vertical-align: middle;\n",
       "    }\n",
       "\n",
       "    .dataframe tbody tr th {\n",
       "        vertical-align: top;\n",
       "    }\n",
       "\n",
       "    .dataframe thead th {\n",
       "        text-align: right;\n",
       "    }\n",
       "</style>\n",
       "<table border=\"1\" class=\"dataframe\">\n",
       "  <thead>\n",
       "    <tr style=\"text-align: right;\">\n",
       "      <th></th>\n",
       "      <th>Residential Mortgages</th>\n",
       "    </tr>\n",
       "    <tr>\n",
       "      <th>Date</th>\n",
       "      <th></th>\n",
       "    </tr>\n",
       "  </thead>\n",
       "  <tbody>\n",
       "    <tr>\n",
       "      <th>2020-06-30</th>\n",
       "      <td>1575288.33</td>\n",
       "    </tr>\n",
       "    <tr>\n",
       "      <th>2020-09-30</th>\n",
       "      <td>1604927.33</td>\n",
       "    </tr>\n",
       "    <tr>\n",
       "      <th>2020-12-31</th>\n",
       "      <td>1639785.00</td>\n",
       "    </tr>\n",
       "    <tr>\n",
       "      <th>2021-03-31</th>\n",
       "      <td>1661491.67</td>\n",
       "    </tr>\n",
       "    <tr>\n",
       "      <th>2021-06-30</th>\n",
       "      <td>1708387.33</td>\n",
       "    </tr>\n",
       "  </tbody>\n",
       "</table>\n",
       "</div>"
      ],
      "text/plain": [
       "0           Residential Mortgages\n",
       "Date                             \n",
       "2020-06-30             1575288.33\n",
       "2020-09-30             1604927.33\n",
       "2020-12-31             1639785.00\n",
       "2021-03-31             1661491.67\n",
       "2021-06-30             1708387.33"
      ]
     },
     "execution_count": 35,
     "metadata": {},
     "output_type": "execute_result"
    }
   ],
   "source": [
    "res_mortgage_cleaned.tail()"
   ]
  },
  {
   "cell_type": "code",
   "execution_count": 38,
   "id": "377fc352",
   "metadata": {},
   "outputs": [
    {
     "data": {
      "text/html": [
       "<div>\n",
       "<style scoped>\n",
       "    .dataframe tbody tr th:only-of-type {\n",
       "        vertical-align: middle;\n",
       "    }\n",
       "\n",
       "    .dataframe tbody tr th {\n",
       "        vertical-align: top;\n",
       "    }\n",
       "\n",
       "    .dataframe thead th {\n",
       "        text-align: right;\n",
       "    }\n",
       "</style>\n",
       "<table border=\"1\" class=\"dataframe\">\n",
       "  <thead>\n",
       "    <tr style=\"text-align: right;\">\n",
       "      <th></th>\n",
       "      <th>Residential Mortgages</th>\n",
       "      <th>Housing Affordability Index</th>\n",
       "      <th>5-year Conventional mortgage</th>\n",
       "    </tr>\n",
       "  </thead>\n",
       "  <tbody>\n",
       "    <tr>\n",
       "      <th>1990-03-31</th>\n",
       "      <td>229940.67</td>\n",
       "      <td>0.479</td>\n",
       "      <td>12.423077</td>\n",
       "    </tr>\n",
       "    <tr>\n",
       "      <th>1990-06-30</th>\n",
       "      <td>236727.00</td>\n",
       "      <td>0.527</td>\n",
       "      <td>14.096154</td>\n",
       "    </tr>\n",
       "    <tr>\n",
       "      <th>1990-09-30</th>\n",
       "      <td>242165.67</td>\n",
       "      <td>0.494</td>\n",
       "      <td>13.769231</td>\n",
       "    </tr>\n",
       "    <tr>\n",
       "      <th>1990-12-31</th>\n",
       "      <td>246922.00</td>\n",
       "      <td>0.467</td>\n",
       "      <td>12.980769</td>\n",
       "    </tr>\n",
       "    <tr>\n",
       "      <th>1991-03-31</th>\n",
       "      <td>250729.33</td>\n",
       "      <td>0.434</td>\n",
       "      <td>11.865385</td>\n",
       "    </tr>\n",
       "  </tbody>\n",
       "</table>\n",
       "</div>"
      ],
      "text/plain": [
       "            Residential Mortgages  Housing Affordability Index  \\\n",
       "1990-03-31              229940.67                        0.479   \n",
       "1990-06-30              236727.00                        0.527   \n",
       "1990-09-30              242165.67                        0.494   \n",
       "1990-12-31              246922.00                        0.467   \n",
       "1991-03-31              250729.33                        0.434   \n",
       "\n",
       "            5-year Conventional mortgage  \n",
       "1990-03-31                     12.423077  \n",
       "1990-06-30                     14.096154  \n",
       "1990-09-30                     13.769231  \n",
       "1990-12-31                     12.980769  \n",
       "1991-03-31                     11.865385  "
      ]
     },
     "execution_count": 38,
     "metadata": {},
     "output_type": "execute_result"
    }
   ],
   "source": [
    "#combine into a single dataframe\n",
    " \n",
    "housing_analysis_combined_df = pd.concat([res_mortgage_cleaned, df_House_afford_index_cleaned, df_chartered_bank_i_cleaned], axis=\"columns\", join=\"inner\")\n",
    "\n",
    "# Sort datetime index in ascending order (past to present)\n",
    "housing_analysis_combined_df.sort_index(inplace=True)\n",
    "\n",
    "# Display a few rows\n",
    "housing_analysis_combined_df.head()\n"
   ]
  },
  {
   "cell_type": "code",
   "execution_count": 40,
   "id": "e6715803",
   "metadata": {},
   "outputs": [
    {
     "data": {
      "text/html": [
       "<div>\n",
       "<style scoped>\n",
       "    .dataframe tbody tr th:only-of-type {\n",
       "        vertical-align: middle;\n",
       "    }\n",
       "\n",
       "    .dataframe tbody tr th {\n",
       "        vertical-align: top;\n",
       "    }\n",
       "\n",
       "    .dataframe thead th {\n",
       "        text-align: right;\n",
       "    }\n",
       "</style>\n",
       "<table border=\"1\" class=\"dataframe\">\n",
       "  <thead>\n",
       "    <tr style=\"text-align: right;\">\n",
       "      <th></th>\n",
       "      <th>Residential Mortgages</th>\n",
       "      <th>Housing Affordability Index</th>\n",
       "      <th>5-year Conventional mortgage</th>\n",
       "    </tr>\n",
       "  </thead>\n",
       "  <tbody>\n",
       "    <tr>\n",
       "      <th>2020-06-30</th>\n",
       "      <td>1575288.33</td>\n",
       "      <td>0.300</td>\n",
       "      <td>4.993846</td>\n",
       "    </tr>\n",
       "    <tr>\n",
       "      <th>2020-09-30</th>\n",
       "      <td>1604927.33</td>\n",
       "      <td>0.315</td>\n",
       "      <td>4.854286</td>\n",
       "    </tr>\n",
       "    <tr>\n",
       "      <th>2020-12-31</th>\n",
       "      <td>1639785.00</td>\n",
       "      <td>0.337</td>\n",
       "      <td>4.790000</td>\n",
       "    </tr>\n",
       "    <tr>\n",
       "      <th>2021-03-31</th>\n",
       "      <td>1661491.67</td>\n",
       "      <td>0.347</td>\n",
       "      <td>4.790000</td>\n",
       "    </tr>\n",
       "    <tr>\n",
       "      <th>2021-06-30</th>\n",
       "      <td>1708387.33</td>\n",
       "      <td>0.363</td>\n",
       "      <td>4.790000</td>\n",
       "    </tr>\n",
       "  </tbody>\n",
       "</table>\n",
       "</div>"
      ],
      "text/plain": [
       "            Residential Mortgages  Housing Affordability Index  \\\n",
       "2020-06-30             1575288.33                        0.300   \n",
       "2020-09-30             1604927.33                        0.315   \n",
       "2020-12-31             1639785.00                        0.337   \n",
       "2021-03-31             1661491.67                        0.347   \n",
       "2021-06-30             1708387.33                        0.363   \n",
       "\n",
       "            5-year Conventional mortgage  \n",
       "2020-06-30                      4.993846  \n",
       "2020-09-30                      4.854286  \n",
       "2020-12-31                      4.790000  \n",
       "2021-03-31                      4.790000  \n",
       "2021-06-30                      4.790000  "
      ]
     },
     "execution_count": 40,
     "metadata": {},
     "output_type": "execute_result"
    }
   ],
   "source": [
    "#Now we have a combined dataframe with all the feature variables \n",
    "housing_analysis_combined_df.tail()"
   ]
  },
  {
   "cell_type": "code",
   "execution_count": 41,
   "id": "f5a62053",
   "metadata": {},
   "outputs": [
    {
     "data": {
      "text/plain": [
       "<AxesSubplot:>"
      ]
     },
     "execution_count": 41,
     "metadata": {},
     "output_type": "execute_result"
    },
    {
     "data": {
      "image/png": "[encoded data removed]",
      "text/plain": [
       "<Figure size 432x288 with 1 Axes>"
      ]
     },
     "metadata": {
      "needs_background": "light"
     },
     "output_type": "display_data"
    }
   ],
   "source": [
    "housing_analysis_combined_df.plot()"
   ]
  },
  {
   "cell_type": "code",
   "execution_count": 46,
   "id": "fca4b6da",
   "metadata": {},
   "outputs": [
    {
     "data": {
      "image/png": "[encoded data removed]",
      "text/plain": [
       "<Figure size 1200x720 with 3 Axes>"
      ]
     },
     "metadata": {
      "needs_background": "light"
     },
     "output_type": "display_data"
    }
   ],
   "source": [
    "# Plot\n",
    "fig, axes = plt.subplots(nrows=3, ncols=1, dpi=120, figsize=(10,6))\n",
    "for i, ax in enumerate(axes.flatten()):\n",
    "    data = housing_analysis_combined_df[housing_analysis_combined_df.columns[i]]\n",
    "    ax.plot(data, color='blue', linewidth=1)\n",
    "    # Decorations\n",
    "    ax.set_title(housing_analysis_combined_df.columns[i])\n",
    "    ax.xaxis.set_ticks_position('none')\n",
    "    ax.yaxis.set_ticks_position('none')\n",
    "    ax.spines[\"top\"].set_alpha(0)\n",
    "    ax.tick_params(labelsize=6)\n",
    "\n",
    "plt.tight_layout();"
   ]
  },
  {
   "cell_type": "code",
   "execution_count": null,
   "id": "78fbb67e",
   "metadata": {},
   "outputs": [],
   "source": [
    "#Next steps: \n",
    "\n",
    "#Testing Causation using Granger’s Causality Test"
   ]
  },
  {
   "cell_type": "code",
   "execution_count": 49,
   "id": "7164d39a",
   "metadata": {},
   "outputs": [],
   "source": [
    "from statsmodels.tsa.stattools import grangercausalitytests\n"
   ]
  },
  {
   "cell_type": "code",
   "execution_count": 57,
   "id": "3dee3f06",
   "metadata": {},
   "outputs": [
    {
     "data": {
      "text/html": [
       "<div>\n",
       "<style scoped>\n",
       "    .dataframe tbody tr th:only-of-type {\n",
       "        vertical-align: middle;\n",
       "    }\n",
       "\n",
       "    .dataframe tbody tr th {\n",
       "        vertical-align: top;\n",
       "    }\n",
       "\n",
       "    .dataframe thead th {\n",
       "        text-align: right;\n",
       "    }\n",
       "</style>\n",
       "<table border=\"1\" class=\"dataframe\">\n",
       "  <thead>\n",
       "    <tr style=\"text-align: right;\">\n",
       "      <th></th>\n",
       "      <th>Residential Mortgages_x</th>\n",
       "      <th>Housing Affordability Index_x</th>\n",
       "      <th>5-year Conventional mortgage_x</th>\n",
       "    </tr>\n",
       "  </thead>\n",
       "  <tbody>\n",
       "    <tr>\n",
       "      <th>Residential Mortgages_y</th>\n",
       "      <td>1.0000</td>\n",
       "      <td>0.1751</td>\n",
       "      <td>0.2808</td>\n",
       "    </tr>\n",
       "    <tr>\n",
       "      <th>Housing Affordability Index_y</th>\n",
       "      <td>0.0514</td>\n",
       "      <td>1.0000</td>\n",
       "      <td>0.0286</td>\n",
       "    </tr>\n",
       "    <tr>\n",
       "      <th>5-year Conventional mortgage_y</th>\n",
       "      <td>0.0227</td>\n",
       "      <td>0.0488</td>\n",
       "      <td>1.0000</td>\n",
       "    </tr>\n",
       "  </tbody>\n",
       "</table>\n",
       "</div>"
      ],
      "text/plain": [
       "                                Residential Mortgages_x  \\\n",
       "Residential Mortgages_y                          1.0000   \n",
       "Housing Affordability Index_y                    0.0514   \n",
       "5-year Conventional mortgage_y                   0.0227   \n",
       "\n",
       "                                Housing Affordability Index_x  \\\n",
       "Residential Mortgages_y                                0.1751   \n",
       "Housing Affordability Index_y                          1.0000   \n",
       "5-year Conventional mortgage_y                         0.0488   \n",
       "\n",
       "                                5-year Conventional mortgage_x  \n",
       "Residential Mortgages_y                                 0.2808  \n",
       "Housing Affordability Index_y                           0.0286  \n",
       "5-year Conventional mortgage_y                          1.0000  "
      ]
     },
     "execution_count": 57,
     "metadata": {},
     "output_type": "execute_result"
    }
   ],
   "source": [
    "maxlag=12\n",
    "test = 'ssr_chi2test'\n",
    "def grangers_causation_matrix(data, variables, test='ssr_chi2test', verbose=False):    \n",
    "    \"\"\"Check Granger Causality of all possible combinations of the Time series.\n",
    "    The rows are the response variable, columns are predictors. The values in the table \n",
    "    are the P-Values. P-Values lesser than the significance level (0.05), implies \n",
    "    the Null Hypothesis that the coefficients of the corresponding past values is \n",
    "    zero, that is, the X does not cause Y can be rejected.\n",
    "\n",
    "    data      : pandas dataframe containing the time series variables\n",
    "    variables : list containing names of the time series variables.\n",
    "    \"\"\"\n",
    "    df = pd.DataFrame(np.zeros((len(variables), len(variables))), columns=variables, index=variables)\n",
    "    for c in df.columns:\n",
    "        for r in df.index:\n",
    "            test_result = grangercausalitytests(data[[r, c]], maxlag=maxlag, verbose=False)\n",
    "            p_values = [round(test_result[i+1][0][test][1],4) for i in range(maxlag)]\n",
    "            if verbose: print(f'Y = {r}, X = {c}, P Values = {p_values}')\n",
    "            min_p_value = np.min(p_values)\n",
    "            df.loc[r, c] = min_p_value\n",
    "    df.columns = [var + '_x' for var in variables]\n",
    "    df.index = [var + '_y' for var in variables]\n",
    "    return df\n",
    "\n",
    "df_grangers = grangers_causation_matrix(housing_analysis_combined_df, variables = housing_analysis_combined_df.columns) \n",
    "df_grangers"
   ]
  },
  {
   "cell_type": "code",
   "execution_count": 58,
   "id": "22fb5c60",
   "metadata": {},
   "outputs": [
    {
     "data": {
      "image/png": "[encoded data removed]",
      "text/plain": [
       "<Figure size 432x288 with 2 Axes>"
      ]
     },
     "metadata": {},
     "output_type": "display_data"
    }
   ],
   "source": [
    "# visualization of grangers causality matrix with heatmap. \n",
    "ax = sns.heatmap(df_grangers)\n",
    "\n",
    " \n"
   ]
  },
  {
   "cell_type": "code",
   "execution_count": 59,
   "id": "80402ef4",
   "metadata": {},
   "outputs": [
    {
     "name": "stdout",
     "output_type": "stream",
     "text": [
      "Name   ::  Test Stat > C(95%)    =>   Signif  \n",
      " ----------------------------------------\n",
      "Residential Mortgages ::  23.66     > 24.2761   =>   False\n",
      "Housing Affordability Index ::  10.71     > 12.3212   =>   False\n",
      "5-year Conventional mortgage ::  4.61      > 4.1296    =>   True\n"
     ]
    }
   ],
   "source": [
    "#cointegration test\n",
    "# from statsmodels.tsa.vector_ar.vecm import coint_johansen\n",
    "\n",
    "# def cointegration_test(df, alpha=0.05): \n",
    "#     \"\"\"Perform Johanson's Cointegration Test and Report Summary\"\"\"\n",
    "#     out = coint_johansen(df,-1,5)\n",
    "#     d = {'0.90':0, '0.95':1, '0.99':2}\n",
    "#     traces = out.lr1\n",
    "#     cvts = out.cvt[:, d[str(1-alpha)]]\n",
    "#     def adjust(val, length= 6): return str(val).ljust(length)\n",
    "\n",
    "#     # Summary\n",
    "#     print('Name   ::  Test Stat > C(95%)    =>   Signif  \\n', '--'*20)\n",
    "#     for col, trace, cvt in zip(df.columns, traces, cvts):\n",
    "#         print(adjust(col), ':: ', adjust(round(trace,2), 9), \">\", adjust(cvt, 8), ' =>  ' , trace > cvt)\n",
    "\n",
    "# cointegration_test(housing_analysis_combined_df)"
   ]
  },
  {
   "cell_type": "code",
   "execution_count": 61,
   "id": "cc515097",
   "metadata": {},
   "outputs": [],
   "source": [
    "from statsmodels.tsa.stattools import adfuller\n",
    "# Store the results of the test in the variable result"
   ]
  },
  {
   "cell_type": "code",
   "execution_count": 64,
   "id": "e0818808",
   "metadata": {},
   "outputs": [
    {
     "name": "stdout",
     "output_type": "stream",
     "text": [
      "ADF Statistic: 3.125303\n",
      "p-value:        1.000000 \n",
      "Lags used:      10\n",
      "Critical Values:\n",
      "('1%', -3.4885349695076844)\n",
      "('5%', -2.887019521656941)\n",
      "('10%', -2.5803597920604915)\n"
     ]
    }
   ],
   "source": [
    "#Residential Mortgages ADF\n",
    "# Apply the Augmented Dickey-Fuller test to determine if the above is stationary\n",
    "\n",
    "\n",
    "\n",
    "result = adfuller(housing_analysis_combined_df['Residential Mortgages'])\n",
    "# Access the contents of the results:\n",
    "print('ADF Statistic: %f' % result[0])\n",
    "print('p-value:        %f ' % result[1])\n",
    "print('Lags used:      %d' % result[2])\n",
    "print('Critical Values:')\n",
    "for key, value in result[4].items():\n",
    "    print((key, value))"
   ]
  },
  {
   "cell_type": "code",
   "execution_count": 65,
   "id": "2e6b7f77",
   "metadata": {},
   "outputs": [
    {
     "name": "stdout",
     "output_type": "stream",
     "text": [
      "ADF Statistic: -2.565432\n",
      "p-value:        0.100354 \n",
      "Lags used:      7\n",
      "Critical Values:\n",
      "('1%', -3.4870216863700767)\n",
      "('5%', -2.8863625166643136)\n",
      "('10%', -2.580009026141913)\n"
     ]
    }
   ],
   "source": [
    "# Housing Affordability Index\n",
    "# Apply the Augmented Dickey-Fuller test to determine if the above is stationary\n",
    "\n",
    "result = adfuller(housing_analysis_combined_df['Housing Affordability Index'])\n",
    "# Access the contents of the results:\n",
    "print('ADF Statistic: %f' % result[0])\n",
    "print('p-value:        %f ' % result[1])\n",
    "print('Lags used:      %d' % result[2])\n",
    "print('Critical Values:')\n",
    "for key, value in result[4].items():\n",
    "    print((key, value))"
   ]
  },
  {
   "cell_type": "code",
   "execution_count": 66,
   "id": "e056d7c5",
   "metadata": {},
   "outputs": [
    {
     "name": "stdout",
     "output_type": "stream",
     "text": [
      "ADF Statistic: -2.431415\n",
      "p-value:        0.133065 \n",
      "Lags used:      13\n",
      "Critical Values:\n",
      "('1%', -3.4901313156261384)\n",
      "('5%', -2.8877122815688776)\n",
      "('10%', -2.5807296460459184)\n"
     ]
    }
   ],
   "source": [
    "# 5-year Conventional mortgage\n",
    "# Apply the Augmented Dickey-Fuller test to determine if the above is stationary\n",
    "result = adfuller(housing_analysis_combined_df['5-year Conventional mortgage'])\n",
    "# Access the contents of the results:\n",
    "print('ADF Statistic: %f' % result[0])\n",
    "print('p-value:        %f ' % result[1])\n",
    "print('Lags used:      %d' % result[2])\n",
    "print('Critical Values:')\n",
    "for key, value in result[4].items():\n",
    "    print((key, value))"
   ]
  },
  {
   "cell_type": "code",
   "execution_count": 67,
   "id": "a463288b",
   "metadata": {},
   "outputs": [
    {
     "name": "stdout",
     "output_type": "stream",
     "text": [
      "ADF test statistic: 0.27827647677122896\n",
      "p-value: 0.9763255756738312\n"
     ]
    }
   ],
   "source": [
    "#1st differencing Residential Mortgages\n",
    "data_d = housing_analysis_combined_df.diff().dropna()\n",
    "adfuller_test = adfuller(data_d['Residential Mortgages'], autolag= \"AIC\")\n",
    "print(\"ADF test statistic: {}\".format(adfuller_test[0]))\n",
    "print(\"p-value: {}\".format(adfuller_test[1]))"
   ]
  },
  {
   "cell_type": "code",
   "execution_count": 68,
   "id": "7e03c91e",
   "metadata": {},
   "outputs": [
    {
     "name": "stdout",
     "output_type": "stream",
     "text": [
      "ADF test statistic: -4.654513070321905\n",
      "p-value: 0.00010236562615111616\n"
     ]
    }
   ],
   "source": [
    "#1st differencing Housing Affordability Index\n",
    "data_d = housing_analysis_combined_df.diff().dropna()\n",
    "adfuller_test = adfuller(data_d['Housing Affordability Index'], autolag= \"AIC\")\n",
    "print(\"ADF test statistic: {}\".format(adfuller_test[0]))\n",
    "print(\"p-value: {}\".format(adfuller_test[1]))"
   ]
  },
  {
   "cell_type": "code",
   "execution_count": 69,
   "id": "8349f9f8",
   "metadata": {},
   "outputs": [
    {
     "name": "stdout",
     "output_type": "stream",
     "text": [
      "ADF test statistic: -5.388781575498016\n",
      "p-value: 3.575903785590714e-06\n"
     ]
    }
   ],
   "source": [
    "#1st differencing 5-year Conventional mortgage\n",
    "data_d = housing_analysis_combined_df.diff().dropna()\n",
    "adfuller_test = adfuller(data_d['5-year Conventional mortgage'], autolag= \"AIC\")\n",
    "print(\"ADF test statistic: {}\".format(adfuller_test[0]))\n",
    "print(\"p-value: {}\".format(adfuller_test[1]))"
   ]
  },
  {
   "cell_type": "code",
   "execution_count": null,
   "id": "ee006f56",
   "metadata": {},
   "outputs": [],
   "source": []
  }
 ],
 "metadata": {
  "kernelspec": {
   "display_name": "Python 3 (ipykernel)",
   "language": "python",
   "name": "python3"
  },
  "language_info": {
   "codemirror_mode": {
    "name": "ipython",
    "version": 3
   },
   "file_extension": ".py",
   "mimetype": "text/x-python",
   "name": "python",
   "nbconvert_exporter": "python",
   "pygments_lexer": "ipython3",
   "version": "3.8.5"
  }
 },
 "nbformat": 4,
 "nbformat_minor": 5
}
