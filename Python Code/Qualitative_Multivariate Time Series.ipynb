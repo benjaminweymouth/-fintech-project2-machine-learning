{
 "cells": [
  {
   "cell_type": "markdown",
   "id": "840ab378",
   "metadata": {},
   "source": [
    "# Canadian Housing Market Forecasting: Time Series Analysis & Modelling.\n",
    "Description:  "
   ]
  },
  {
   "cell_type": "code",
   "execution_count": 1,
   "id": "404acfe4",
   "metadata": {},
   "outputs": [],
   "source": [
    "import numpy as np\n",
    "import pandas as pd\n",
    "from pathlib import Path\n",
    "%matplotlib inline\n",
    "\n",
    "import warnings\n",
    "warnings.simplefilter(action='ignore', category=Warning)"
   ]
  },
  {
   "cell_type": "markdown",
   "id": "d9d1e1f9",
   "metadata": {},
   "source": [
    "# Data Ingestion and Data Cleaning\n",
    "Description: "
   ]
  },
  {
   "cell_type": "code",
   "execution_count": null,
   "id": "2d152440",
   "metadata": {},
   "outputs": [],
   "source": [
    "#csv for mortgage rates \n",
    "#ingest the csv \n",
    "#take all dates after 1975-01-01\n",
    "#take only the column named 5-year Conventional mortgage"
   ]
  },
  {
   "cell_type": "code",
   "execution_count": null,
   "id": "82e8e0d4",
   "metadata": {},
   "outputs": [],
   "source": [
    "# Data ingestion - reading the CSV in from Statistics Canada and the Bank of Canada\n",
    "#first data set: Credit liabilities of households.csv\n",
    "# Residential mortgages 9+\n",
    "df = pd.read_csv('Credit liabilities of households.csv', index_col=\"date\", infer_datetime_format=True, parse_dates=True)"
   ]
  },
  {
   "cell_type": "code",
   "execution_count": null,
   "id": "993c6dfa",
   "metadata": {},
   "outputs": [],
   "source": [
    "#take the csv in \n",
    "#extract this column name: Credit liabilities of households 1 2 3\n",
    "#extract this column name: Residential mortgages 9 \n",
    "#flip the row into a column (transpose method)\n",
    "#since the dates won't match, we need to add null values\n"
   ]
  }
 ],
 "metadata": {
  "kernelspec": {
   "display_name": "Python 3 (ipykernel)",
   "language": "python",
   "name": "python3"
  },
  "language_info": {
   "codemirror_mode": {
    "name": "ipython",
    "version": 3
   },
   "file_extension": ".py",
   "mimetype": "text/x-python",
   "name": "python",
   "nbconvert_exporter": "python",
   "pygments_lexer": "ipython3",
   "version": "3.8.5"
  }
 },
 "nbformat": 4,
 "nbformat_minor": 5
}
