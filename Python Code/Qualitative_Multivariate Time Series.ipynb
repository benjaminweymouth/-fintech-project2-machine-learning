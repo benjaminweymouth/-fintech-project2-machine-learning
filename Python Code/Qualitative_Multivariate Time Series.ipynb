{
 "cells": [
  {
   "cell_type": "markdown",
   "id": "fe12f0d7",
   "metadata": {},
   "source": [
    "# Canadian Housing Market Forecasting: Time Series Analysis & Modelling.\n",
    "Description:  "
   ]
  },
  {
   "cell_type": "code",
   "execution_count": 1,
   "id": "41b27497",
   "metadata": {},
   "outputs": [],
   "source": [
    "import numpy as np\n",
    "import pandas as pd\n",
    "from pathlib import Path\n",
    "%matplotlib inline\n",
    "\n",
    "import warnings\n",
    "warnings.simplefilter(action='ignore', category=Warning)"
   ]
  },
  {
   "cell_type": "markdown",
   "id": "6a003981",
   "metadata": {},
   "source": [
    "# Data Ingestion and Data Cleaning\n",
    "Description: "
   ]
  },
  {
   "cell_type": "code",
   "execution_count": null,
   "id": "524d9fa2",
   "metadata": {},
   "outputs": [],
   "source": [
    "# Data ingestion - reading the CSV in from Statistics Canada and the Bank of Canada\n",
    "df = pd.read_csv('btc_sentiment.csv', index_col=\"date\", infer_datetime_format=True, parse_dates=True)"
   ]
  }
 ],
 "metadata": {
  "kernelspec": {
   "display_name": "Python 3 (ipykernel)",
   "language": "python",
   "name": "python3"
  },
  "language_info": {
   "codemirror_mode": {
    "name": "ipython",
    "version": 3
   },
   "file_extension": ".py",
   "mimetype": "text/x-python",
   "name": "python",
   "nbconvert_exporter": "python",
   "pygments_lexer": "ipython3",
   "version": "3.8.5"
  }
 },
 "nbformat": 4,
 "nbformat_minor": 5
}
